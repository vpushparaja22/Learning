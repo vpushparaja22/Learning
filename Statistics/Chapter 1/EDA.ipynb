{
 "cells": [
  {
   "cell_type": "markdown",
   "metadata": {},
   "source": [
    "# Exploratory Data Analysis"
   ]
  },
  {
   "cell_type": "code",
   "execution_count": 13,
   "metadata": {},
   "outputs": [],
   "source": [
    "state <- read.csv('state.csv')\n",
    "dfw <- read.csv(\"dfw_airline.csv\")\n",
    "sp500 <- read.csv(\"sp500_data.csv\")\n",
    "sp500_sym <- read.csv(\"sp500_sectors.csv\")"
   ]
  },
  {
   "cell_type": "code",
   "execution_count": 7,
   "metadata": {},
   "outputs": [
    {
     "data": {
      "text/plain": [
       "        State      Population        Murder.Rate      Abbreviation\n",
       " Alabama   : 1   Min.   :  563626   Min.   : 0.900   AK     : 1   \n",
       " Alaska    : 1   1st Qu.: 1833004   1st Qu.: 2.425   AL     : 1   \n",
       " Arizona   : 1   Median : 4436370   Median : 4.000   AR     : 1   \n",
       " Arkansas  : 1   Mean   : 6162876   Mean   : 4.066   AZ     : 1   \n",
       " California: 1   3rd Qu.: 6680312   3rd Qu.: 5.550   CA     : 1   \n",
       " Colorado  : 1   Max.   :37253956   Max.   :10.300   CO     : 1   \n",
       " (Other)   :44                                       (Other):44   "
      ]
     },
     "metadata": {},
     "output_type": "display_data"
    }
   ],
   "source": [
    "summary(state)"
   ]
  },
  {
   "cell_type": "code",
   "execution_count": 8,
   "metadata": {},
   "outputs": [
    {
     "data": {
      "text/plain": [
       "    Carrier           ATC           Weather         Security    \n",
       " Min.   :64263   Min.   :84856   Min.   :11235   Min.   :343.1  \n",
       " 1st Qu.:64263   1st Qu.:84856   1st Qu.:11235   1st Qu.:343.1  \n",
       " Median :64263   Median :84856   Median :11235   Median :343.1  \n",
       " Mean   :64263   Mean   :84856   Mean   :11235   Mean   :343.1  \n",
       " 3rd Qu.:64263   3rd Qu.:84856   3rd Qu.:11235   3rd Qu.:343.1  \n",
       " Max.   :64263   Max.   :84856   Max.   :11235   Max.   :343.1  \n",
       "    Inbound      \n",
       " Min.   :118428  \n",
       " 1st Qu.:118428  \n",
       " Median :118428  \n",
       " Mean   :118428  \n",
       " 3rd Qu.:118428  \n",
       " Max.   :118428  "
      ]
     },
     "metadata": {},
     "output_type": "display_data"
    }
   ],
   "source": [
    "summary(dfw)"
   ]
  },
  {
   "cell_type": "code",
   "execution_count": 10,
   "metadata": {},
   "outputs": [
    {
     "data": {
      "text/plain": [
       "          X             ADS                  CA                 MSFT          \n",
       " 1993-01-29:   1   Min.   :-11.24001   Min.   :-6.612527   Min.   :-2.076718  \n",
       " 1993-02-01:   1   1st Qu.: -0.13000   1st Qu.:-0.217653   1st Qu.:-0.143606  \n",
       " 1993-02-02:   1   Median :  0.00000   Median : 0.000000   Median : 0.000000  \n",
       " 1993-02-03:   1   Mean   :  0.04127   Mean   : 0.003379   Mean   : 0.003065  \n",
       " 1993-02-04:   1   3rd Qu.:  0.20000   3rd Qu.: 0.225176   3rd Qu.: 0.146588  \n",
       " 1993-02-05:   1   Max.   : 20.03999   Max.   : 4.752754   Max.   : 3.490654  \n",
       " (Other)   :5641                                                              \n",
       "      RHT                 CTSH                CSC           \n",
       " Min.   :-13.50000   Min.   :-2.785000   Min.   :-19.85970  \n",
       " 1st Qu.: -0.19000   1st Qu.:-0.058120   1st Qu.: -0.34687  \n",
       " Median :  0.00000   Median : 0.000000   Median :  0.00000  \n",
       " Mean   : -0.03292   Mean   : 0.003007   Mean   :  0.01389  \n",
       " 3rd Qu.:  0.15000   3rd Qu.: 0.067815   3rd Qu.:  0.37222  \n",
       " Max.   : 18.78125   Max.   : 1.994999   Max.   :  8.04817  \n",
       "                                                            \n",
       "      EMC                 IBM                XRX                 ALTR          \n",
       " Min.   :-8.372804   Min.   :-8.99327   Min.   :-3.263346   Min.   :-6.189851  \n",
       " 1st Qu.:-0.134952   1st Qu.:-0.47582   1st Qu.:-0.119237   1st Qu.:-0.239486  \n",
       " Median : 0.000000   Median : 0.02354   Median : 0.000000   Median :-0.007096  \n",
       " Mean   : 0.000586   Mean   : 0.05016   Mean   :-0.000881   Mean   :-0.000694  \n",
       " 3rd Qu.: 0.154232   3rd Qu.: 0.56817   3rd Qu.: 0.128171   3rd Qu.: 0.227150  \n",
       " Max.   :13.974327   Max.   : 8.80236   Max.   : 3.475058   Max.   : 9.620642  \n",
       "                                                                               \n",
       "      ADI                 AVGO                BRCM          \n",
       " Min.   :-8.288490   Min.   :-8.166923   Min.   :-20.97598  \n",
       " 1st Qu.:-0.262847   1st Qu.: 0.000000   1st Qu.: -0.26201  \n",
       " Median : 0.000000   Median : 0.000000   Median :  0.00000  \n",
       " Mean   :-0.007179   Mean   : 0.004034   Mean   : -0.02232  \n",
       " 3rd Qu.: 0.248659   3rd Qu.: 0.000000   3rd Qu.:  0.23082  \n",
       " Max.   : 8.477941   Max.   : 9.373528   Max.   : 21.26840  \n",
       "                                                            \n",
       "      FSLR                INTC                LLTC          \n",
       " Min.   :-27.06000   Min.   :-3.424151   Min.   :-6.777262  \n",
       " 1st Qu.:  0.00000   1st Qu.:-0.165865   1st Qu.:-0.247198  \n",
       " Median :  0.00000   Median : 0.000000   Median : 0.000000  \n",
       " Mean   : -0.05044   Mean   :-0.003794   Mean   : 0.002013  \n",
       " 3rd Qu.:  0.00000   3rd Qu.: 0.161633   3rd Qu.: 0.247467  \n",
       " Max.   : 26.39000   Max.   : 4.745482   Max.   : 6.040721  \n",
       "                                                            \n",
       "      MCHP                 MU                 NVDA          \n",
       " Min.   :-2.776749   Min.   :-10.37500   Min.   :-3.428871  \n",
       " 1st Qu.:-0.198779   1st Qu.: -0.25000   1st Qu.:-0.104192  \n",
       " Median : 0.000000   Median : -0.02000   Median : 0.000000  \n",
       " Mean   :-0.005185   Mean   : -0.03277   Mean   :-0.002966  \n",
       " 3rd Qu.: 0.198779   3rd Qu.:  0.19000   3rd Qu.: 0.094720  \n",
       " Max.   : 2.534483   Max.   :  8.87500   Max.   : 3.334938  \n",
       "                                                            \n",
       "      QRVO                QCOM                SWKS               TXN           \n",
       " Min.   :-6.420006   Min.   :-9.301996   Min.   :-9.34510   Min.   :-7.167771  \n",
       " 1st Qu.: 0.000000   1st Qu.:-0.215905   1st Qu.:-0.16834   1st Qu.:-0.210979  \n",
       " Median : 0.000000   Median : 0.000000   Median : 0.00000   Median : 0.006098  \n",
       " Mean   : 0.000146   Mean   : 0.007876   Mean   :-0.01474   Mean   : 0.002607  \n",
       " 3rd Qu.: 0.000000   3rd Qu.: 0.257762   3rd Qu.: 0.16504   3rd Qu.: 0.227434  \n",
       " Max.   : 4.540001   Max.   :10.046672   Max.   :10.33530   Max.   : 7.474962  \n",
       "                                                                               \n",
       "      XLNX                AAPL               HPQ                 EA          \n",
       " Min.   :-7.856272   Min.   :-4.10859   Min.   :-3.73203   Min.   :-7.32812  \n",
       " 1st Qu.:-0.248616   1st Qu.:-0.05032   1st Qu.:-0.20305   1st Qu.:-0.28125  \n",
       " Median : 0.000000   Median : 0.00000   Median : 0.01726   Median : 0.00000  \n",
       " Mean   :-0.006903   Mean   :-0.01181   Mean   : 0.01961   Mean   : 0.01147  \n",
       " 3rd Qu.: 0.233335   3rd Qu.: 0.05099   3rd Qu.: 0.24615   3rd Qu.: 0.29688  \n",
       " Max.   : 8.154611   Max.   : 4.12770   Max.   : 3.35539   Max.   : 5.62500  \n",
       "                                                                             \n",
       "      SNDK                STX                 WDC                 TEL          \n",
       " Min.   :-12.48333   Min.   :-3.223082   Min.   :-6.909042   Min.   :-3.03611  \n",
       " 1st Qu.: -0.30635   1st Qu.:-0.039131   1st Qu.:-0.236207   1st Qu.: 0.00000  \n",
       " Median :  0.00000   Median : 0.000000   Median : 0.000000   Median : 0.00000  \n",
       " Mean   : -0.02707   Mean   : 0.001969   Mean   : 0.000541   Mean   : 0.01148  \n",
       " 3rd Qu.:  0.28203   3rd Qu.: 0.042715   3rd Qu.: 0.236207   3rd Qu.: 0.00000  \n",
       " Max.   :  9.36060   Max.   : 2.663001   Max.   : 5.255596   Max.   : 3.25000  \n",
       "                                                                               \n",
       "      HRS                 MSI                  ACN                AMAT         \n",
       " Min.   :-4.035680   Min.   :-14.478174   Min.   :-3.20371   Min.   :-4.93920  \n",
       " 1st Qu.:-0.182865   1st Qu.: -0.556523   1st Qu.:-0.04965   1st Qu.:-0.14808  \n",
       " Median : 0.000000   Median :  0.000000   Median : 0.00000   Median : 0.00000  \n",
       " Mean   :-0.002873   Mean   : -0.004992   Mean   : 0.03180   Mean   :-0.00637  \n",
       " 3rd Qu.: 0.175891   3rd Qu.:  0.539847   3rd Qu.: 0.15348   3rd Qu.: 0.13994  \n",
       " Max.   : 3.509104   Max.   : 13.988525   Max.   : 3.43124   Max.   : 6.37979  \n",
       "                                                                               \n",
       "      KLAC                 LRCX                ADBE         \n",
       " Min.   :-11.111691   Min.   :-7.462851   Min.   :-5.78398  \n",
       " 1st Qu.: -0.320337   1st Qu.:-0.411170   1st Qu.:-0.21000  \n",
       " Median :  0.000000   Median : 0.000000   Median : 0.00000  \n",
       " Mean   :  0.003497   Mean   :-0.002077   Mean   : 0.01367  \n",
       " 3rd Qu.:  0.325072   3rd Qu.: 0.394731   3rd Qu.: 0.24561  \n",
       " Max.   :  7.034740   Max.   : 7.154468   Max.   : 5.71411  \n",
       "                                                            \n",
       "      ADSK                ORCL               SYMC               TDC           \n",
       " Min.   :-5.779999   Min.   :-4.82738   Min.   :-2.25615   Min.   :-5.340004  \n",
       " 1st Qu.:-0.187718   1st Qu.:-0.12978   1st Qu.:-0.09853   1st Qu.: 0.000000  \n",
       " Median : 0.007538   Median : 0.00000   Median : 0.00000   Median : 0.000000  \n",
       " Mean   : 0.015936   Mean   :-0.00003   Mean   : 0.00630   Mean   : 0.003497  \n",
       " 3rd Qu.: 0.233079   3rd Qu.: 0.13654   3rd Qu.: 0.12272   3rd Qu.: 0.000000  \n",
       " Max.   : 2.340000   Max.   : 6.69982   Max.   : 1.54343   Max.   : 4.059998  \n",
       "                                                                              \n",
       "      AKAM                ADP                CTXS          \n",
       " Min.   :-38.12500   Min.   :-2.51675   Min.   :-13.00000  \n",
       " 1st Qu.: -0.18875   1st Qu.:-0.16058   1st Qu.: -0.32000  \n",
       " Median :  0.00000   Median : 0.00000   Median :  0.00000  \n",
       " Mean   : -0.07786   Mean   : 0.01617   Mean   : -0.01751  \n",
       " 3rd Qu.:  0.14000   3rd Qu.: 0.20291   3rd Qu.:  0.33000  \n",
       " Max.   : 35.18750   Max.   : 2.74505   Max.   : 11.25000  \n",
       "                                                           \n",
       "      EBAY                 EQIX                FB                 FIS          \n",
       " Min.   :-1.8873604   Min.   :-56.9588   Min.   :-4.349999   Min.   :-4.18252  \n",
       " 1st Qu.:-0.0968018   1st Qu.: -0.3797   1st Qu.: 0.000000   1st Qu.:-0.04564  \n",
       " Median : 0.0000000   Median :  0.0000   Median : 0.000000   Median : 0.00000  \n",
       " Mean   : 0.0008251   Mean   : -0.1439   Mean   :-0.003474   Mean   : 0.01278  \n",
       " 3rd Qu.: 0.0925922   3rd Qu.:  0.3607   3rd Qu.: 0.000000   3rd Qu.: 0.08036  \n",
       " Max.   : 1.8939389   Max.   : 56.9588   Max.   : 3.150002   Max.   : 2.56194  \n",
       "                                                                               \n",
       "      FISV              GOOGL                GOOG                INTU         \n",
       " Min.   :-2.81000   Min.   :-33.29999   Min.   :-32.99013   Min.   :-6.49535  \n",
       " 1st Qu.:-0.14500   1st Qu.:  0.00000   1st Qu.:  0.00000   1st Qu.:-0.21073  \n",
       " Median : 0.00000   Median :  0.00000   Median :  0.00000   Median : 0.00479  \n",
       " Mean   : 0.01355   Mean   : -0.07432   Mean   : -0.03079   Mean   : 0.01621  \n",
       " 3rd Qu.: 0.17000   3rd Qu.:  0.00000   3rd Qu.:  0.00000   3rd Qu.: 0.24904  \n",
       " Max.   : 2.70000   Max.   : 18.54999   Max.   : 18.66012   Max.   : 7.90218  \n",
       "                                                                              \n",
       "       MA                 NTAP                 NFLX          \n",
       " Min.   :-3.317022   Min.   :-16.807485   Min.   :-9.331428  \n",
       " 1st Qu.: 0.000000   1st Qu.: -0.225508   1st Qu.:-0.021429  \n",
       " Median : 0.000000   Median :  0.000000   Median : 0.000000  \n",
       " Mean   : 0.003552   Mean   : -0.004164   Mean   : 0.005646  \n",
       " 3rd Qu.: 0.000000   3rd Qu.:  0.240536   3rd Qu.: 0.020714  \n",
       " Max.   : 4.753994   Max.   : 18.401039   Max.   : 4.292854  \n",
       "                                                             \n",
       "      PAYX                CRM                TSS                VRSN          \n",
       " Min.   :-4.024241   Min.   :-3.91000   Min.   :-3.43643   Min.   :-26.42983  \n",
       " 1st Qu.:-0.163893   1st Qu.: 0.00000   1st Qu.:-0.11706   1st Qu.: -0.19902  \n",
       " Median : 0.000000   Median : 0.00000   Median : 0.00000   Median :  0.00000  \n",
       " Mean   : 0.000557   Mean   : 0.01016   Mean   : 0.01177   Mean   : -0.01643  \n",
       " 3rd Qu.: 0.164242   3rd Qu.: 0.00000   3rd Qu.: 0.14153   3rd Qu.:  0.21229  \n",
       " Max.   : 3.184864   Max.   : 8.34000   Max.   : 3.20215   Max.   : 28.76499  \n",
       "                                                                              \n",
       "       V                   WU                 YHOO               CSCO         \n",
       " Min.   :-4.122927   Min.   :-1.718616   Min.   :-9.51562   Min.   :-5.52313  \n",
       " 1st Qu.: 0.000000   1st Qu.: 0.000000   1st Qu.:-0.19000   1st Qu.:-0.14359  \n",
       " Median : 0.000000   Median : 0.000000   Median : 0.00000   Median : 0.00000  \n",
       " Mean   : 0.002954   Mean   : 0.002513   Mean   :-0.01458   Mean   :-0.00739  \n",
       " 3rd Qu.: 0.000000   3rd Qu.: 0.000000   3rd Qu.: 0.16000   3rd Qu.: 0.14877  \n",
       " Max.   : 2.581879   Max.   : 2.271202   Max.   :13.00000   Max.   : 8.53575  \n",
       "                                                                              \n",
       "      FFIV                 JNPR                PBI           \n",
       " Min.   :-10.959999   Min.   :-21.16124   Min.   :-2.554323  \n",
       " 1st Qu.: -0.265315   1st Qu.: -0.17704   1st Qu.:-0.140671  \n",
       " Median :  0.000000   Median :  0.00000   Median : 0.000000  \n",
       " Mean   : -0.003225   Mean   : -0.02632   Mean   : 0.004897  \n",
       " 3rd Qu.:  0.280001   3rd Qu.:  0.17321   3rd Qu.: 0.146603  \n",
       " Max.   : 15.281250   Max.   : 33.43998   Max.   : 2.723034  \n",
       "                                                             \n",
       "      RHI                 GLW                ADT            \n",
       " Min.   :-4.327259   Min.   :-6.65409   Min.   :-2.9265763  \n",
       " 1st Qu.:-0.200025   1st Qu.:-0.13978   1st Qu.: 0.0000000  \n",
       " Median : 0.000000   Median : 0.00000   Median : 0.0000000  \n",
       " Mean   : 0.006591   Mean   :-0.01009   Mean   :-0.0000288  \n",
       " 3rd Qu.: 0.208543   3rd Qu.: 0.13665   3rd Qu.: 0.0000000  \n",
       " Max.   : 2.711054   Max.   : 8.60875   Max.   : 2.0193350  \n",
       "                                                            \n",
       "      FLR                 NLSN                DNB           \n",
       " Min.   :-8.436466   Min.   :-1.669810   Min.   :-19.26950  \n",
       " 1st Qu.:-0.142097   1st Qu.: 0.000000   1st Qu.: -0.17362  \n",
       " Median : 0.000000   Median : 0.000000   Median :  0.01684  \n",
       " Mean   :-0.006501   Mean   : 0.006219   Mean   :  0.03527  \n",
       " 3rd Qu.: 0.146337   3rd Qu.: 0.000000   3rd Qu.:  0.26972  \n",
       " Max.   : 6.369071   Max.   : 2.196855   Max.   :  8.78762  \n",
       "                                                            \n",
       "      IRM                  BA                 FLIR                 GD          \n",
       " Min.   :-2.236255   Min.   :-6.420946   Min.   :-2.815353   Min.   :-4.29354  \n",
       " 1st Qu.:-0.074833   1st Qu.:-0.345544   1st Qu.:-0.075834   1st Qu.:-0.22065  \n",
       " Median : 0.000000   Median : 0.000000   Median : 0.000000   Median : 0.01100  \n",
       " Mean   : 0.005583   Mean   : 0.002854   Mean   : 0.007459   Mean   : 0.01895  \n",
       " 3rd Qu.: 0.086279   3rd Qu.: 0.383271   3rd Qu.: 0.088868   3rd Qu.: 0.26749  \n",
       " Max.   : 2.169700   Max.   : 7.989070   Max.   : 3.943390   Max.   : 4.31035  \n",
       "                                                                               \n",
       "      LMT                NOC                 RTN                CSX           \n",
       " Min.   :-7.68436   Min.   :-10.08619   Min.   :-2.99272   Min.   :-1.784959  \n",
       " 1st Qu.:-0.29473   1st Qu.: -0.22784   1st Qu.:-0.23460   1st Qu.:-0.067513  \n",
       " Median : 0.00000   Median :  0.01344   Median : 0.00000   Median : 0.000000  \n",
       " Mean   : 0.02003   Mean   :  0.02069   Mean   : 0.01496   Mean   : 0.001133  \n",
       " 3rd Qu.: 0.34994   3rd Qu.:  0.26785   3rd Qu.: 0.27821   3rd Qu.: 0.072860  \n",
       " Max.   : 5.57887   Max.   :  4.39937   Max.   : 3.66955   Max.   : 1.942748  \n",
       "                                                                              \n",
       "      KSU                NSC                UNP                 AAL           \n",
       " Min.   :-6.84414   Min.   :-6.46824   Min.   :-5.020293   Min.   :-4.726737  \n",
       " 1st Qu.:-0.13655   1st Qu.:-0.22667   1st Qu.:-0.116690   1st Qu.: 0.000000  \n",
       " Median : 0.00000   Median : 0.00000   Median : 0.000000   Median : 0.000000  \n",
       " Mean   : 0.01211   Mean   : 0.01127   Mean   : 0.008006   Mean   :-0.009701  \n",
       " 3rd Qu.: 0.16411   3rd Qu.: 0.26214   3rd Qu.: 0.141261   3rd Qu.: 0.000000  \n",
       " Max.   : 5.74973   Max.   : 3.80451   Max.   : 5.729710   Max.   : 5.945586  \n",
       "                                                                              \n",
       "      DAL                 LUV                 AME                 APH          \n",
       " Min.   :-2.509778   Min.   :-3.253403   Min.   :-1.921376   Min.   :-3.28787  \n",
       " 1st Qu.: 0.000000   1st Qu.:-0.119920   1st Qu.:-0.050195   1st Qu.:-0.06373  \n",
       " Median : 0.000000   Median : 0.000000   Median : 0.000000   Median : 0.00000  \n",
       " Mean   :-0.003852   Mean   : 0.000561   Mean   : 0.009251   Mean   : 0.00739  \n",
       " 3rd Qu.: 0.000000   3rd Qu.: 0.119057   3rd Qu.: 0.072473   3rd Qu.: 0.07734  \n",
       " Max.   : 2.151238   Max.   : 2.279014   Max.   : 1.810681   Max.   : 2.08353  \n",
       "                                                                               \n",
       "      JBHT              GWW                 CTAS               CMI           \n",
       " Min.   :-3.0017   Min.   :-9.076389   Min.   :-4.09051   Min.   :-9.174564  \n",
       " 1st Qu.:-0.1251   1st Qu.:-0.389438   1st Qu.:-0.21068   1st Qu.:-0.172050  \n",
       " Median : 0.0000   Median : 0.008244   Median : 0.00000   Median : 0.000000  \n",
       " Mean   : 0.0136   Mean   : 0.047566   Mean   : 0.01389   Mean   :-0.005021  \n",
       " 3rd Qu.: 0.1419   3rd Qu.: 0.456523   3rd Qu.: 0.24651   3rd Qu.: 0.177723  \n",
       " Max.   : 4.2085   Max.   :19.649096   Max.   : 5.67501   Max.   : 7.060414  \n",
       "                                                                             \n",
       "      DHR                 DOV                 FLS                 ITW          \n",
       " Min.   :-2.882858   Min.   :-4.235686   Min.   :-4.951591   Min.   :-2.89504  \n",
       " 1st Qu.:-0.142446   1st Qu.:-0.211653   1st Qu.:-0.110158   1st Qu.:-0.21373  \n",
       " Median : 0.000000   Median : 0.000000   Median : 0.000000   Median : 0.00904  \n",
       " Mean   : 0.009574   Mean   : 0.007089   Mean   : 0.002918   Mean   : 0.01033  \n",
       " 3rd Qu.: 0.156365   3rd Qu.: 0.230057   3rd Qu.: 0.127393   3rd Qu.: 0.22930  \n",
       " Max.   : 2.956522   Max.   : 2.984452   Max.   : 4.549987   Max.   : 2.92496  \n",
       "                                                                               \n",
       "      JOY                 WM                 MMM                ETN           \n",
       " Min.   :-7.19471   Min.   :-3.403928   Min.   :-5.40266   Min.   :-4.395728  \n",
       " 1st Qu.:-0.09082   1st Qu.:-0.170162   1st Qu.:-0.28601   1st Qu.:-0.142770  \n",
       " Median : 0.00000   Median : 0.000000   Median : 0.00000   Median : 0.000000  \n",
       " Mean   :-0.01092   Mean   : 0.004698   Mean   : 0.01769   Mean   : 0.002467  \n",
       " 3rd Qu.: 0.10313   3rd Qu.: 0.170162   3rd Qu.: 0.35287   3rd Qu.: 0.149573  \n",
       " Max.   : 6.22888   Max.   : 2.255609   Max.   : 4.35379   Max.   : 3.445610  \n",
       "                                                                              \n",
       "      EMR                  GE                 HON           \n",
       " Min.   :-3.503141   Min.   :-2.147223   Min.   :-5.856574  \n",
       " 1st Qu.:-0.177586   1st Qu.:-0.129317   1st Qu.:-0.254276  \n",
       " Median : 0.000000   Median : 0.000000   Median : 0.000000  \n",
       " Mean   : 0.002631   Mean   :-0.004073   Mean   : 0.001392  \n",
       " 3rd Qu.: 0.189294   3rd Qu.: 0.118889   3rd Qu.: 0.275652  \n",
       " Max.   : 4.168945   Max.   : 2.444480   Max.   : 3.515143  \n",
       "                                                            \n",
       "       IR                 JEC                 LLL           \n",
       " Min.   :-2.723141   Min.   :-6.670006   Min.   :-6.645471  \n",
       " 1st Qu.:-0.172703   1st Qu.:-0.160000   1st Qu.:-0.288340  \n",
       " Median : 0.003237   Median : 0.000000   Median : 0.000000  \n",
       " Mean   : 0.004775   Mean   :-0.005113   Mean   : 0.004636  \n",
       " 3rd Qu.: 0.199244   3rd Qu.: 0.187500   3rd Qu.: 0.287850  \n",
       " Max.   : 2.078931   Max.   :10.629998   Max.   : 7.314942  \n",
       "                                                            \n",
       "      LEG                 PLL                 PH                 PNR           \n",
       " Min.   :-1.973562   Min.   :-5.45861   Min.   :-6.115232   Min.   :-3.337398  \n",
       " 1st Qu.:-0.108856   1st Qu.:-0.19283   1st Qu.:-0.286609   1st Qu.:-0.176443  \n",
       " Median : 0.000000   Median : 0.00000   Median : 0.000000   Median : 0.000000  \n",
       " Mean   : 0.006204   Mean   : 0.01754   Mean   : 0.009604   Mean   : 0.006922  \n",
       " 3rd Qu.: 0.119272   3rd Qu.: 0.23694   3rd Qu.: 0.308230   3rd Qu.: 0.187948  \n",
       " Max.   : 3.348799   Max.   : 5.27000   Max.   : 4.325061   Max.   : 3.373842  \n",
       "                                                                               \n",
       "      PCP                 PWR                 RSG                 ROK          \n",
       " Min.   :-10.82588   Min.   :-6.083328   Min.   :-3.220491   Min.   :-6.30873  \n",
       " 1st Qu.: -0.25454   1st Qu.:-0.140002   1st Qu.:-0.075473   1st Qu.:-0.19259  \n",
       " Median :  0.00000   Median : 0.000000   Median : 0.000000   Median : 0.01650  \n",
       " Mean   :  0.03447   Mean   :-0.005022   Mean   : 0.004058   Mean   : 0.02582  \n",
       " 3rd Qu.:  0.28701   3rd Qu.: 0.140000   3rd Qu.: 0.094342   3rd Qu.: 0.26343  \n",
       " Max.   : 12.92639   Max.   : 6.375000   Max.   : 2.911453   Max.   : 4.20903  \n",
       "                                                                               \n",
       "      COL                ROP                 R                  SRCL         \n",
       " Min.   :-3.02138   Min.   :-5.01550   Min.   :-5.423668   Min.   :-4.97000  \n",
       " 1st Qu.:-0.07911   1st Qu.:-0.22711   1st Qu.:-0.258118   1st Qu.:-0.15625  \n",
       " Median : 0.00000   Median : 0.00000   Median : 0.000000   Median : 0.00000  \n",
       " Mean   : 0.01887   Mean   : 0.02656   Mean   : 0.003828   Mean   : 0.02361  \n",
       " 3rd Qu.: 0.15884   3rd Qu.: 0.27589   3rd Qu.: 0.272432   3rd Qu.: 0.19000  \n",
       " Max.   : 4.20636   Max.   : 8.85830   Max.   : 5.714677   Max.   : 6.25000  \n",
       "                                                                             \n",
       "      TXT                 TYC                 UTX           \n",
       " Min.   :-4.393104   Min.   :-9.716806   Min.   :-4.333157  \n",
       " 1st Qu.:-0.194459   1st Qu.:-0.202049   1st Qu.:-0.238080  \n",
       " Median : 0.000000   Median : 0.009076   Median : 0.000000  \n",
       " Mean   : 0.008633   Mean   : 0.005695   Mean   :-0.002061  \n",
       " 3rd Qu.: 0.225869   3rd Qu.: 0.233806   3rd Qu.: 0.239855  \n",
       " Max.   : 5.273624   Max.   : 7.235919   Max.   : 4.282178  \n",
       "                                                            \n",
       "      XYL                  CHRW               EXPD               FDX          \n",
       " Min.   :-1.6173582   Min.   :-4.12708   Min.   :-4.51156   Min.   :-5.80947  \n",
       " 1st Qu.: 0.0000000   1st Qu.:-0.14023   1st Qu.:-0.13807   1st Qu.:-0.47961  \n",
       " Median : 0.0000000   Median : 0.00000   Median : 0.00000   Median : 0.00000  \n",
       " Mean   :-0.0004226   Mean   : 0.01454   Mean   : 0.01545   Mean   : 0.01733  \n",
       " 3rd Qu.: 0.0000000   3rd Qu.: 0.16267   3rd Qu.: 0.16772   3rd Qu.: 0.48197  \n",
       " Max.   : 1.6123025   Max.   : 4.90440   Max.   : 4.36279   Max.   : 7.10838  \n",
       "                                                                              \n",
       "      UPS                CAT                  DE                 PCAR          \n",
       " Min.   :-4.05113   Min.   :-4.368529   Min.   :-7.473793   Min.   :-3.288317  \n",
       " 1st Qu.:-0.15062   1st Qu.:-0.241933   1st Qu.:-0.246568   1st Qu.:-0.136238  \n",
       " Median : 0.00000   Median : 0.000000   Median : 0.000000   Median : 0.000000  \n",
       " Mean   : 0.01166   Mean   :-0.008062   Mean   : 0.000593   Mean   : 0.007335  \n",
       " 3rd Qu.: 0.18231   3rd Qu.: 0.260509   3rd Qu.: 0.250671   3rd Qu.: 0.163768  \n",
       " Max.   : 4.38718   Max.   : 3.884688   Max.   : 9.770816   Max.   : 4.013439  \n",
       "                                                                               \n",
       "      ALLE                FAST                MAS                URI          \n",
       " Min.   :-3.160637   Min.   :-2.604063   Min.   :-1.90469   Min.   :-10.8700  \n",
       " 1st Qu.: 0.000000   1st Qu.:-0.100740   1st Qu.:-0.14287   1st Qu.: -0.2300  \n",
       " Median : 0.000000   Median : 0.000000   Median : 0.00000   Median :  0.0000  \n",
       " Mean   : 0.002493   Mean   : 0.007478   Mean   :-0.00397   Mean   : -0.0149  \n",
       " 3rd Qu.: 0.000000   3rd Qu.: 0.114679   3rd Qu.: 0.14034   3rd Qu.:  0.2200  \n",
       " Max.   : 2.448184   Max.   : 2.362259   Max.   : 1.94656   Max.   :  6.0900  \n",
       "                                                                              \n",
       "      KMI                 MPC                 PSX           \n",
       " Min.   :-2.940795   Min.   :-2.801393   Min.   :-5.316563  \n",
       " 1st Qu.: 0.000000   1st Qu.: 0.000000   1st Qu.: 0.000000  \n",
       " Median : 0.000000   Median : 0.000000   Median : 0.000000  \n",
       " Mean   :-0.005704   Mean   : 0.003264   Mean   : 0.006399  \n",
       " 3rd Qu.: 0.000000   3rd Qu.: 0.000000   3rd Qu.: 0.000000  \n",
       " Max.   : 2.050816   Max.   : 3.138704   Max.   : 3.979309  \n",
       "                                                            \n",
       "       SE                 TSO                 VLO                 DO          \n",
       " Min.   :-1.631106   Min.   :-4.586130   Min.   :-3.54583   Min.   :-8.82742  \n",
       " 1st Qu.: 0.000000   1st Qu.:-0.139233   1st Qu.:-0.12118   1st Qu.:-0.32776  \n",
       " Median : 0.000000   Median : 0.000000   Median : 0.00000   Median : 0.00000  \n",
       " Mean   : 0.001179   Mean   : 0.001494   Mean   :-0.01203   Mean   :-0.02784  \n",
       " 3rd Qu.: 0.000000   3rd Qu.: 0.147030   3rd Qu.: 0.12397   3rd Qu.: 0.27747  \n",
       " Max.   : 2.871320   Max.   : 5.319115   Max.   : 3.59006   Max.   : 7.12183  \n",
       "                                                                              \n",
       "      ESV                HP                 RIG                 APC           \n",
       " Min.   :-4.4770   Min.   :-6.995454   Min.   :-11.00146   Min.   :-7.727140  \n",
       " 1st Qu.:-0.3765   1st Qu.:-0.189978   1st Qu.: -0.52004   1st Qu.:-0.330554  \n",
       " Median : 0.0000   Median : 0.000000   Median :  0.00000   Median :-0.009444  \n",
       " Mean   :-0.0244   Mean   :-0.001228   Mean   : -0.04694   Mean   :-0.015718  \n",
       " 3rd Qu.: 0.3392   3rd Qu.: 0.213506   3rd Qu.:  0.43253   3rd Qu.: 0.327745  \n",
       " Max.   : 4.8446   Max.   : 6.051031   Max.   :  7.77806   Max.   :12.205136  \n",
       "                                                                              \n",
       "      APA                 COG                 XEC            \n",
       " Min.   :-11.22635   Min.   :-2.084621   Min.   :-12.942407  \n",
       " 1st Qu.: -0.35927   1st Qu.:-0.043360   1st Qu.: -0.075930  \n",
       " Median :  0.00000   Median : 0.000000   Median :  0.000000  \n",
       " Mean   : -0.02486   Mean   :-0.001462   Mean   :  0.004589  \n",
       " 3rd Qu.:  0.34973   3rd Qu.: 0.043727   3rd Qu.:  0.133067  \n",
       " Max.   : 10.36134   Max.   : 2.345456   Max.   :  8.059050  \n",
       "                                                             \n",
       "      COP                DVN                EOG                 EQT           \n",
       " Min.   :-5.45255   Min.   :-9.29776   Min.   :-5.447714   Min.   :-6.505387  \n",
       " 1st Qu.:-0.15914   1st Qu.:-0.32856   1st Qu.:-0.159268   1st Qu.:-0.121286  \n",
       " Median : 0.00000   Median : 0.00000   Median : 0.000000   Median : 0.000000  \n",
       " Mean   :-0.00638   Mean   :-0.01466   Mean   :-0.003813   Mean   : 0.005294  \n",
       " 3rd Qu.: 0.16165   3rd Qu.: 0.31927   3rd Qu.: 0.164904   3rd Qu.: 0.140684  \n",
       " Max.   : 3.16375   Max.   : 9.10444   Max.   : 7.093361   Max.   : 6.171806  \n",
       "                                                                              \n",
       "      MRO                 NFX                NBL                 OXY           \n",
       " Min.   :-2.101724   Min.   :-6.40000   Min.   :-3.622974   Min.   :-7.193842  \n",
       " 1st Qu.:-0.093438   1st Qu.:-0.25000   1st Qu.:-0.152088   1st Qu.:-0.141886  \n",
       " Median : 0.000000   Median : 0.00000   Median : 0.000000   Median : 0.000000  \n",
       " Mean   :-0.006673   Mean   :-0.01018   Mean   :-0.000149   Mean   :-0.009973  \n",
       " 3rd Qu.: 0.093218   3rd Qu.: 0.25000   3rd Qu.: 0.162047   3rd Qu.: 0.149197  \n",
       " Max.   : 2.116739   Max.   : 4.08000   Max.   : 4.139121   Max.   : 7.038228  \n",
       "                                                                               \n",
       "      OKE                 PXD                  RRC           \n",
       " Min.   :-3.809023   Min.   :-13.371019   Min.   :-6.808129  \n",
       " 1st Qu.:-0.056325   1st Qu.: -0.318142   1st Qu.:-0.157695  \n",
       " Median : 0.000000   Median :  0.000000   Median : 0.000000  \n",
       " Mean   : 0.004089   Mean   :  0.001616   Mean   :-0.007723  \n",
       " 3rd Qu.: 0.068922   3rd Qu.:  0.351931   3rd Qu.: 0.160915  \n",
       " Max.   : 4.599435   Max.   : 10.437457   Max.   : 5.866684  \n",
       "                                                             \n",
       "      SWN                 WMB                 CPGX           \n",
       " Min.   :-7.389999   Min.   :-3.248554   Min.   :-1.8100000  \n",
       " 1st Qu.:-0.054706   1st Qu.:-0.133564   1st Qu.: 0.0000000  \n",
       " Median : 0.000000   Median : 0.000000   Median : 0.0000000  \n",
       " Mean   :-0.005282   Mean   : 0.000186   Mean   :-0.0008447  \n",
       " 3rd Qu.: 0.053755   3rd Qu.: 0.146654   3rd Qu.: 0.0000000  \n",
       " Max.   : 6.180001   Max.   :12.520001   Max.   : 0.4000000  \n",
       "                                                             \n",
       "      CNX                 CHK                CVX                 XOM          \n",
       " Min.   :-13.39757   Min.   :-5.01957   Min.   :-7.715071   Min.   :-8.06373  \n",
       " 1st Qu.: -0.14771   1st Qu.:-0.16128   1st Qu.:-0.264340   1st Qu.:-0.22728  \n",
       " Median :  0.00000   Median : 0.00000   Median : 0.000000   Median : 0.01758  \n",
       " Mean   : -0.01059   Mean   :-0.02117   Mean   : 0.003986   Mean   : 0.01887  \n",
       " 3rd Qu.:  0.13881   3rd Qu.: 0.15105   3rd Qu.: 0.273464   3rd Qu.: 0.26440  \n",
       " Max.   :  6.81940   Max.   : 3.59054   Max.   : 7.691333   Max.   : 6.87098  \n",
       "                                                                              \n",
       "      HES                 MUR                 BHI                CAM           \n",
       " Min.   :-11.81393   Min.   :-5.140305   Min.   :-5.61132   Min.   :-5.509998  \n",
       " 1st Qu.: -0.23817   1st Qu.:-0.154047   1st Qu.:-0.41963   1st Qu.:-0.220002  \n",
       " Median :  0.00000   Median : 0.000000   Median : 0.00000   Median : 0.000000  \n",
       " Mean   : -0.01272   Mean   :-0.004674   Mean   :-0.01953   Mean   :-0.002699  \n",
       " 3rd Qu.:  0.26474   3rd Qu.: 0.164736   3rd Qu.: 0.42430   3rd Qu.: 0.220001  \n",
       " Max.   : 14.08152   Max.   : 3.804980   Max.   : 8.02683   Max.   : 3.890002  \n",
       "                                                                               \n",
       "      FTI                 HAL                NOV                SLB          \n",
       " Min.   :-4.039999   Min.   :-3.73250   Min.   :-6.77452   Min.   :-9.12578  \n",
       " 1st Qu.:-0.052212   1st Qu.:-0.23828   1st Qu.:-0.20388   1st Qu.:-0.35975  \n",
       " Median : 0.000000   Median : 0.00000   Median : 0.00000   Median : 0.00000  \n",
       " Mean   : 0.003198   Mean   :-0.01708   Mean   :-0.01184   Mean   :-0.01072  \n",
       " 3rd Qu.: 0.059331   3rd Qu.: 0.22301   3rd Qu.: 0.22416   3rd Qu.: 0.34253  \n",
       " Max.   : 2.920002   Max.   : 2.75231   Max.   : 6.03206   Max.   : 7.71457  \n",
       "                                                                             \n",
       "      HAS                MAT                 RCL                 GRMN          \n",
       " Min.   :-4.08060   Min.   :-2.964245   Min.   :-4.296648   Min.   :-6.985294  \n",
       " 1st Qu.:-0.16015   1st Qu.:-0.144021   1st Qu.:-0.249590   1st Qu.:-0.097369  \n",
       " Median : 0.00000   Median : 0.000000   Median : 0.000000   Median : 0.000000  \n",
       " Mean   : 0.00025   Mean   : 0.001131   Mean   : 0.001784   Mean   :-0.007123  \n",
       " 3rd Qu.: 0.15353   3rd Qu.: 0.149351   3rd Qu.: 0.239816   3rd Qu.: 0.094093  \n",
       " Max.   : 4.13309   Max.   : 2.594304   Max.   : 4.161335   Max.   : 5.765232  \n",
       "                                                                               \n",
       "      HAR                  CVC                 CBS          \n",
       " Min.   :-12.088120   Min.   :-2.569523   Min.   :-2.99266  \n",
       " 1st Qu.: -0.285345   1st Qu.:-0.107255   1st Qu.: 0.00000  \n",
       " Median :  0.000000   Median :-0.004172   Median : 0.00000  \n",
       " Mean   :  0.004046   Mean   :-0.005318   Mean   :-0.00031  \n",
       " 3rd Qu.:  0.286346   3rd Qu.: 0.095769   3rd Qu.: 0.00000  \n",
       " Max.   : 11.314794   Max.   : 3.240000   Max.   : 3.95918  \n",
       "                                                            \n",
       "     CMCSA                 DTV                DISCA               DISCK        \n",
       " Min.   :-2.9481704   Min.   :-3.360000   Min.   :-2.529392   Min.   :-1.8550  \n",
       " 1st Qu.:-0.1633782   1st Qu.: 0.000000   1st Qu.: 0.000000   1st Qu.: 0.0000  \n",
       " Median : 0.0000000   Median : 0.000000   Median : 0.000000   Median : 0.0000  \n",
       " Mean   :-0.0002302   Mean   : 0.008119   Mean   : 0.002886   Mean   : 0.0075  \n",
       " 3rd Qu.: 0.1747071   3rd Qu.: 0.020001   3rd Qu.: 0.000000   3rd Qu.: 0.0000  \n",
       " Max.   : 2.8753702   Max.   : 6.809998   Max.   : 1.820000   Max.   : 2.3600  \n",
       "                                                                               \n",
       "      SNI                 TWX                  TWC          \n",
       " Min.   :-4.469141   Min.   :-25.997399   Min.   :-7.35912  \n",
       " 1st Qu.: 0.000000   1st Qu.: -0.263730   1st Qu.: 0.00000  \n",
       " Median : 0.000000   Median :  0.000000   Median : 0.00000  \n",
       " Mean   : 0.003193   Mean   :  0.007762   Mean   : 0.01685  \n",
       " 3rd Qu.: 0.000000   3rd Qu.:  0.296817   3rd Qu.: 0.00000  \n",
       " Max.   : 4.451071   Max.   : 14.615755   Max.   :12.36812  \n",
       "                                                            \n",
       "      VIAB                DIS                CCL                 EXPE          \n",
       " Min.   :-3.442923   Min.   :-3.34773   Min.   :-3.557997   Min.   :-4.524420  \n",
       " 1st Qu.: 0.000000   1st Qu.:-0.20118   1st Qu.:-0.216282   1st Qu.: 0.000000  \n",
       " Median : 0.000000   Median : 0.00000   Median : 0.000000   Median : 0.000000  \n",
       " Mean   : 0.002967   Mean   : 0.01144   Mean   : 0.000472   Mean   : 0.007773  \n",
       " 3rd Qu.: 0.000000   3rd Qu.: 0.22383   3rd Qu.: 0.213773   3rd Qu.: 0.000000  \n",
       " Max.   : 3.813123   Max.   : 3.30080   Max.   : 3.822096   Max.   : 3.218498  \n",
       "                                                                               \n",
       "      MAR                PCLN                HOT                 WYN           \n",
       " Min.   :-2.68826   Min.   :-131.2526   Min.   :-3.354285   Min.   :-3.602120  \n",
       " 1st Qu.:-0.15651   1st Qu.:  -0.7000   1st Qu.:-0.258790   1st Qu.: 0.000000  \n",
       " Median : 0.00000   Median :   0.0000   Median : 0.000000   Median : 0.000000  \n",
       " Mean   : 0.01441   Mean   :  -0.3545   Mean   : 0.004547   Mean   : 0.003685  \n",
       " 3rd Qu.: 0.19355   3rd Qu.:   0.5200   3rd Qu.: 0.259311   3rd Qu.: 0.000000  \n",
       " Max.   : 2.83429   Max.   : 136.5027   Max.   : 3.994143   Max.   : 3.441716  \n",
       "                                                                               \n",
       "      BWA                 DLPH                JCI           \n",
       " Min.   :-2.571382   Min.   :-2.680000   Min.   :-2.825608  \n",
       " 1st Qu.:-0.083483   1st Qu.: 0.000000   1st Qu.:-0.101238  \n",
       " Median : 0.000000   Median : 0.000000   Median : 0.000000  \n",
       " Mean   : 0.009287   Mean   : 0.003382   Mean   : 0.002324  \n",
       " 3rd Qu.: 0.099540   3rd Qu.: 0.000000   3rd Qu.: 0.114630  \n",
       " Max.   : 3.413014   Max.   : 2.153676   Max.   : 2.436086  \n",
       "                                                            \n",
       "      BBY                 GME                NWSA                TGNA          \n",
       " Min.   :-6.037188   Min.   :-4.11674   Min.   :-1.07e+00   Min.   :-3.156853  \n",
       " 1st Qu.:-0.237198   1st Qu.:-0.06342   1st Qu.: 0.00e+00   1st Qu.:-0.222151  \n",
       " Median :-0.005427   Median : 0.00000   Median : 0.00e+00   Median : 0.000000  \n",
       " Mean   :-0.006023   Mean   :-0.00499   Mean   : 5.84e-05   Mean   : 0.001605  \n",
       " 3rd Qu.: 0.223602   3rd Qu.: 0.05779   3rd Qu.: 0.00e+00   3rd Qu.: 0.222734  \n",
       " Max.   : 4.755695   Max.   : 3.44988   Max.   : 9.20e-01   Max.   : 3.073945  \n",
       "                                                                               \n",
       "      FOXA                MHK                  DG           \n",
       " Min.   :-2.232468   Min.   :-7.629990   Min.   :-4.066561  \n",
       " 1st Qu.:-0.093708   1st Qu.:-0.500000   1st Qu.: 0.000000  \n",
       " Median : 0.000000   Median : 0.000000   Median : 0.000000  \n",
       " Mean   : 0.001162   Mean   : 0.009397   Mean   : 0.001027  \n",
       " 3rd Qu.: 0.095226   3rd Qu.: 0.500000   3rd Qu.: 0.000000  \n",
       " Max.   : 3.032719   Max.   : 7.660000   Max.   : 2.744178  \n",
       "                                                            \n",
       "      DLTR                KSS                 TGT                HOG          \n",
       " Min.   :-4.830002   Min.   :-5.523671   Min.   :-4.88504   Min.   :-3.72702  \n",
       " 1st Qu.:-0.120000   1st Qu.:-0.347859   1st Qu.:-0.25810   1st Qu.:-0.25654  \n",
       " Median : 0.000000   Median : 0.000000   Median : 0.00000   Median : 0.00000  \n",
       " Mean   : 0.006038   Mean   : 0.000249   Mean   : 0.00431   Mean   : 0.00485  \n",
       " 3rd Qu.: 0.129630   3rd Qu.: 0.331784   3rd Qu.: 0.25290   3rd Qu.: 0.26518  \n",
       " Max.   : 3.629997   Max.   : 6.681860   Max.   : 5.81702   Max.   : 4.62961  \n",
       "                                                                              \n",
       "       HD                 LOW                  M            \n",
       " Min.   :-3.760036   Min.   :-2.124033   Min.   :-2.657736  \n",
       " 1st Qu.:-0.210721   1st Qu.:-0.150620   1st Qu.:-0.224542  \n",
       " Median : 0.000000   Median : 0.000000   Median : 0.000000  \n",
       " Mean   : 0.006498   Mean   : 0.007244   Mean   : 0.003554  \n",
       " 3rd Qu.: 0.224199   3rd Qu.: 0.155652   3rd Qu.: 0.229646  \n",
       " Max.   : 4.397741   Max.   : 3.052475   Max.   : 3.252915  \n",
       "                                                            \n",
       "      JWN                 NWL                DHI                LEN          \n",
       " Min.   :-2.982069   Min.   :-4.53062   Min.   :-2.40476   Min.   :-4.38026  \n",
       " 1st Qu.:-0.188014   1st Qu.:-0.14930   1st Qu.:-0.13117   1st Qu.:-0.24084  \n",
       " Median : 0.000000   Median : 0.00000   Median : 0.00000   Median :-0.01182  \n",
       " Mean   : 0.008905   Mean   : 0.00115   Mean   :-0.01044   Mean   :-0.01409  \n",
       " 3rd Qu.: 0.202457   3rd Qu.: 0.15005   3rd Qu.: 0.10858   3rd Qu.: 0.18911  \n",
       " Max.   : 4.031157   Max.   : 2.63451   Max.   : 2.27622   Max.   : 3.08860  \n",
       "                                                                             \n",
       "      PHM                 COH                 FOSL          \n",
       " Min.   :-2.672297   Min.   :-4.481995   Min.   :-13.58000  \n",
       " 1st Qu.:-0.138021   1st Qu.:-0.101240   1st Qu.: -0.20000  \n",
       " Median :-0.009333   Median : 0.000000   Median :  0.00000  \n",
       " Mean   :-0.008436   Mean   : 0.001538   Mean   :  0.02025  \n",
       " 3rd Qu.: 0.117385   3rd Qu.: 0.110043   3rd Qu.:  0.22667  \n",
       " Max.   : 3.158757   Max.   : 3.354110   Max.   : 19.82000  \n",
       "                                                            \n",
       "      HBI                 KORS                NKE           \n",
       " Min.   :-1.003303   Min.   :-14.66000   Min.   :-2.561967  \n",
       " 1st Qu.: 0.000000   1st Qu.:  0.00000   1st Qu.:-0.133602  \n",
       " Median : 0.000000   Median :  0.00000   Median : 0.002148  \n",
       " Mean   : 0.003902   Mean   : -0.01379   Mean   : 0.013604  \n",
       " 3rd Qu.: 0.000000   3rd Qu.:  0.00000   3rd Qu.: 0.150337  \n",
       " Max.   : 1.472104   Max.   :  3.55000   Max.   : 2.825894  \n",
       "                                                            \n",
       "       RL                 PVH                 TIF           \n",
       " Min.   :-14.83715   Min.   :-6.332151   Min.   :-5.756970  \n",
       " 1st Qu.: -0.34742   1st Qu.:-0.289554   1st Qu.:-0.269948  \n",
       " Median :  0.00000   Median : 0.000000   Median : 0.000000  \n",
       " Mean   :  0.02513   Mean   : 0.005403   Mean   : 0.004325  \n",
       " 3rd Qu.:  0.38843   3rd Qu.: 0.314838   3rd Qu.: 0.273715  \n",
       " Max.   :  9.04086   Max.   : 6.138054   Max.   : 5.028179  \n",
       "                                                            \n",
       "       UA                 VFC                  GT                 AN           \n",
       " Min.   :-4.614998   Min.   :-2.524440   Min.   :-3.59012   Min.   :-3.549999  \n",
       " 1st Qu.: 0.000000   1st Qu.:-0.078119   1st Qu.:-0.26729   1st Qu.:-0.179998  \n",
       " Median : 0.000000   Median : 0.000000   Median : 0.00000   Median : 0.000000  \n",
       " Mean   : 0.000488   Mean   : 0.007083   Mean   :-0.02256   Mean   :-0.003742  \n",
       " 3rd Qu.: 0.000000   3rd Qu.: 0.084248   3rd Qu.: 0.22971   3rd Qu.: 0.169261  \n",
       " Max.   : 4.040001   Max.   : 2.398892   Max.   : 2.76367   Max.   : 3.046699  \n",
       "                                                                               \n",
       "      AZO                 BBBY                KMX           \n",
       " Min.   :-20.75000   Min.   :-4.029999   Min.   :-3.009998  \n",
       " 1st Qu.: -0.62500   1st Qu.:-0.281250   1st Qu.:-0.125000  \n",
       " Median :  0.00000   Median : 0.000000   Median : 0.000000  \n",
       " Mean   :  0.07302   Mean   : 0.006922   Mean   : 0.001581  \n",
       " 3rd Qu.:  0.68750   3rd Qu.: 0.290001   3rd Qu.: 0.125000  \n",
       " Max.   : 24.14996   Max.   : 4.750000   Max.   : 3.149998  \n",
       "                                                            \n",
       "      GPC                 ORLY               SPLS                GPS           \n",
       " Min.   :-4.049888   Min.   :-5.98001   Min.   :-1.595430   Min.   :-6.130636  \n",
       " 1st Qu.:-0.161477   1st Qu.:-0.17187   1st Qu.:-0.129883   1st Qu.:-0.162969  \n",
       " Median : 0.000000   Median : 0.00000   Median : 0.000000   Median : 0.000000  \n",
       " Mean   : 0.004541   Mean   : 0.03365   Mean   : 0.003118   Mean   : 0.007284  \n",
       " 3rd Qu.: 0.174425   3rd Qu.: 0.21250   3rd Qu.: 0.130788   3rd Qu.: 0.175313  \n",
       " Max.   : 4.440587   Max.   : 6.52000   Max.   : 1.634837   Max.   : 3.928826  \n",
       "                                                                               \n",
       "       LB                 ROST                TJX           \n",
       " Min.   :-2.904863   Min.   :-2.937927   Min.   :-2.075572  \n",
       " 1st Qu.:-0.114172   1st Qu.:-0.048618   1st Qu.:-0.080681  \n",
       " Median : 0.000000   Median : 0.000000   Median : 0.000000  \n",
       " Mean   : 0.007809   Mean   : 0.004007   Mean   : 0.008019  \n",
       " 3rd Qu.: 0.125089   3rd Qu.: 0.055518   3rd Qu.: 0.093376  \n",
       " Max.   : 4.488873   Max.   : 1.547809   Max.   : 3.170009  \n",
       "                                                            \n",
       "      URBN                SNA                SWK                WHR           \n",
       " Min.   :-2.680000   Min.   :-4.40282   Min.   :-3.63768   Min.   :-13.85155  \n",
       " 1st Qu.:-0.097650   1st Qu.:-0.21101   1st Qu.:-0.24998   1st Qu.: -0.52926  \n",
       " Median : 0.000000   Median : 0.00000   Median : 0.00000   Median :  0.00000  \n",
       " Mean   : 0.001006   Mean   : 0.01499   Mean   : 0.01891   Mean   :  0.01022  \n",
       " 3rd Qu.: 0.103125   3rd Qu.: 0.22965   3rd Qu.: 0.28606   3rd Qu.:  0.53905  \n",
       " Max.   : 3.090001   Max.   : 6.41941   Max.   : 4.42723   Max.   : 14.37951  \n",
       "                                                                              \n",
       "      WYNN                AAP                TSCO                 F           \n",
       " Min.   :-10.73279   Min.   :-6.95737   Min.   :-3.176989   Min.   :-1.41610  \n",
       " 1st Qu.: -0.15412   1st Qu.:-0.10223   1st Qu.:-0.053188   1st Qu.:-0.11323  \n",
       " Median :  0.00000   Median : 0.00000   Median : 0.000000   Median :-0.01259  \n",
       " Mean   : -0.01550   Mean   : 0.01201   Mean   : 0.007614   Mean   :-0.01068  \n",
       " 3rd Qu.:  0.08007   3rd Qu.: 0.11558   3rd Qu.: 0.064684   3rd Qu.: 0.09084  \n",
       " Max.   : 11.59841   Max.   :13.30498   Max.   : 3.880497   Max.   : 1.99670  \n",
       "                                                                              \n",
       "       GM                 IPG                 OMC           \n",
       " Min.   :-1.782565   Min.   :-4.084623   Min.   :-5.026517  \n",
       " 1st Qu.: 0.000000   1st Qu.:-0.117788   1st Qu.:-0.194533  \n",
       " Median : 0.000000   Median : 0.000000   Median : 0.004166  \n",
       " Mean   :-0.004044   Mean   : 0.005671   Mean   : 0.011258  \n",
       " 3rd Qu.: 0.000000   3rd Qu.: 0.126848   3rd Qu.: 0.241920  \n",
       " Max.   : 1.867898   Max.   : 3.576145   Max.   : 3.755632  \n",
       "                                                            \n",
       "      AMZN                TRIP               CMG                DRI          \n",
       " Min.   :-15.16000   Min.   :-7.06000   Min.   :-63.0900   Min.   :-3.62216  \n",
       " 1st Qu.: -0.56250   1st Qu.: 0.00000   1st Qu.:  0.0000   1st Qu.:-0.13531  \n",
       " Median :  0.00000   Median : 0.00000   Median :  0.0000   Median : 0.00000  \n",
       " Mean   :  0.04124   Mean   : 0.00195   Mean   :  0.0431   Mean   : 0.01046  \n",
       " 3rd Qu.:  0.60000   3rd Qu.: 0.00000   3rd Qu.:  0.0000   3rd Qu.: 0.15573  \n",
       " Max.   : 15.47000   Max.   :11.03000   Max.   : 28.6900   Max.   : 3.09552  \n",
       "                                                                             \n",
       "      MCD                SBUX                YUM               GAS           \n",
       " Min.   :-3.18430   Min.   :-1.237554   Min.   :-3.5913   Min.   :-2.889629  \n",
       " 1st Qu.:-0.19268   1st Qu.:-0.069360   1st Qu.:-0.1060   1st Qu.:-0.099278  \n",
       " Median : 0.00000   Median : 0.000000   Median : 0.0000   Median : 0.000000  \n",
       " Mean   : 0.01229   Mean   : 0.003764   Mean   : 0.0164   Mean   : 0.004772  \n",
       " 3rd Qu.: 0.21266   3rd Qu.: 0.078609   3rd Qu.: 0.1407   3rd Qu.: 0.111382  \n",
       " Max.   : 3.68566   Max.   : 1.150905   Max.   : 5.3759   Max.   : 2.191973  \n",
       "                                                                             \n",
       "      AEE                  CNP                  CMS           \n",
       " Min.   :-2.0000838   Min.   :-2.6213094   Min.   :-1.611569  \n",
       " 1st Qu.:-0.0990742   1st Qu.:-0.0793183   1st Qu.:-0.099697  \n",
       " Median : 0.0000000   Median : 0.0000000   Median : 0.000000  \n",
       " Mean   : 0.0003826   Mean   : 0.0004042   Mean   : 0.002315  \n",
       " 3rd Qu.: 0.1076384   3rd Qu.: 0.0856298   3rd Qu.: 0.112342  \n",
       " Max.   : 2.5179064   Max.   : 1.4709834   Max.   : 1.633608  \n",
       "                                                              \n",
       "      DTE                  ES                EXC                 NEE           \n",
       " Min.   :-4.036250   Min.   :-2.11472   Min.   :-3.783947   Min.   :-3.705244  \n",
       " 1st Qu.:-0.132859   1st Qu.:-0.09084   1st Qu.:-0.131392   1st Qu.:-0.136576  \n",
       " Median : 0.000000   Median : 0.00000   Median : 0.000000   Median : 0.000000  \n",
       " Mean   : 0.007457   Mean   : 0.01039   Mean   :-0.002105   Mean   : 0.007868  \n",
       " 3rd Qu.: 0.154322   3rd Qu.: 0.11593   3rd Qu.: 0.137730   3rd Qu.: 0.158790  \n",
       " Max.   : 2.491074   Max.   : 1.82994   Max.   : 5.576156   Max.   : 3.925516  \n",
       "                                                                               \n",
       "       NI                 PCG                PNW            \n",
       " Min.   :-0.660159   Min.   :-3.22752   Min.   :-2.8626220  \n",
       " 1st Qu.:-0.029987   1st Qu.:-0.13751   1st Qu.:-0.1459348  \n",
       " Median : 0.000000   Median : 0.00000   Median : 0.0000000  \n",
       " Mean   : 0.002137   Mean   : 0.01452   Mean   : 0.0000113  \n",
       " 3rd Qu.: 0.032986   3rd Qu.: 0.16999   3rd Qu.: 0.1475859  \n",
       " Max.   : 0.710940   Max.   : 4.56370   Max.   : 2.2792086  \n",
       "                                                            \n",
       "      SCG                 SRE                XEL                AES           \n",
       " Min.   :-2.958239   Min.   :-6.24666   Min.   :-1.87620   Min.   :-5.369860  \n",
       " 1st Qu.:-0.104691   1st Qu.:-0.11039   1st Qu.:-0.07598   1st Qu.:-0.129509  \n",
       " Median : 0.000000   Median : 0.00000   Median : 0.00000   Median : 0.000000  \n",
       " Mean   : 0.006677   Mean   : 0.01435   Mean   : 0.00275   Mean   :-0.004839  \n",
       " 3rd Qu.: 0.126233   3rd Qu.: 0.15597   3rd Qu.: 0.08409   3rd Qu.: 0.143196  \n",
       " Max.   : 3.106548   Max.   : 3.95461   Max.   : 1.15975   Max.   : 5.071535  \n",
       "                                                                              \n",
       "      NRG                 AEP                   ED           \n",
       " Min.   :-3.966311   Min.   :-2.6248718   Min.   :-1.831899  \n",
       " 1st Qu.:-0.009466   1st Qu.:-0.1368146   1st Qu.:-0.133416  \n",
       " Median : 0.000000   Median : 0.0000000   Median : 0.000000  \n",
       " Mean   :-0.007998   Mean   : 0.0008243   Mean   : 0.003894  \n",
       " 3rd Qu.: 0.009466   3rd Qu.: 0.1503667   3rd Qu.: 0.148715  \n",
       " Max.   : 4.278694   Max.   : 2.7035163   Max.   : 2.158361  \n",
       "                                                             \n",
       "       D                  DUK                 EIX                ETR           \n",
       " Min.   :-2.436027   Min.   :-3.655265   Min.   :-3.09408   Min.   :-5.374016  \n",
       " 1st Qu.:-0.106332   1st Qu.:-0.189292   1st Qu.:-0.14335   1st Qu.:-0.189232  \n",
       " Median : 0.000000   Median : 0.000000   Median : 0.00000   Median : 0.000000  \n",
       " Mean   : 0.005075   Mean   :-0.004038   Mean   : 0.01076   Mean   : 0.008349  \n",
       " 3rd Qu.: 0.122887   3rd Qu.: 0.191916   3rd Qu.: 0.17130   3rd Qu.: 0.228845  \n",
       " Max.   : 2.367306   Max.   : 2.837482   Max.   : 2.58605   Max.   : 5.778356  \n",
       "                                                                               \n",
       "       FE                 POM                 PPL           \n",
       " Min.   :-3.265833   Min.   :-1.111471   Min.   :-2.609853  \n",
       " 1st Qu.:-0.122601   1st Qu.:-0.072498   1st Qu.:-0.082284  \n",
       " Median : 0.000000   Median : 0.000000   Median : 0.000000  \n",
       " Mean   :-0.001419   Mean   : 0.005942   Mean   : 0.001293  \n",
       " 3rd Qu.: 0.134455   3rd Qu.: 0.085702   3rd Qu.: 0.091019  \n",
       " Max.   : 4.594425   Max.   : 2.098832   Max.   : 3.020796  \n",
       "                                                            \n",
       "      PEG                  SO                  TE                WEC           \n",
       " Min.   :-1.885457   Min.   :-1.737892   Min.   :-1.57501   Min.   :-2.241645  \n",
       " 1st Qu.:-0.084670   1st Qu.:-0.083638   1st Qu.:-0.07312   1st Qu.:-0.063643  \n",
       " Median : 0.000000   Median : 0.000000   Median : 0.00000   Median : 0.003414  \n",
       " Mean   : 0.005814   Mean   : 0.002766   Mean   : 0.00207   Mean   : 0.009610  \n",
       " 3rd Qu.: 0.103376   3rd Qu.: 0.088798   3rd Qu.: 0.08100   3rd Qu.: 0.085035  \n",
       " Max.   : 2.820702   Max.   : 1.926166   Max.   : 1.08686   Max.   : 1.244933  \n",
       "                                                                               \n",
       "      NUE                 NEM                 AA                BLL           \n",
       " Min.   :-8.575545   Min.   :-5.64560   Min.   :-2.67745   Min.   :-2.221985  \n",
       " 1st Qu.:-0.171953   1st Qu.:-0.40067   1st Qu.:-0.17185   1st Qu.:-0.078363  \n",
       " Median : 0.000000   Median :-0.04266   Median :-0.00955   Median : 0.000000  \n",
       " Mean   :-0.005198   Mean   :-0.02185   Mean   :-0.01266   Mean   : 0.009178  \n",
       " 3rd Qu.: 0.177406   3rd Qu.: 0.35316   3rd Qu.: 0.14799   3rd Qu.: 0.096374  \n",
       " Max.   : 4.952710   Max.   : 4.15353   Max.   : 2.49143   Max.   : 2.750077  \n",
       "                                                                              \n",
       "       OI                  IP                  CF           \n",
       " Min.   :-6.250000   Min.   :-2.940861   Min.   :-3.738027  \n",
       " 1st Qu.:-0.225000   1st Qu.:-0.273490   1st Qu.: 0.000000  \n",
       " Median : 0.000000   Median :-0.007101   Median : 0.000000  \n",
       " Mean   :-0.002068   Mean   :-0.015948   Mean   : 0.002752  \n",
       " 3rd Qu.: 0.220001   3rd Qu.: 0.236652   3rd Qu.: 0.000000  \n",
       " Max.   : 4.280000   Max.   : 2.967221   Max.   : 4.229455  \n",
       "                                                            \n",
       "      MON                  MOS                AVY           \n",
       " Min.   :-12.166079   Min.   :-11.7012   Min.   :-4.537323  \n",
       " 1st Qu.: -0.098669   1st Qu.: -0.2712   1st Qu.:-0.232339  \n",
       " Median :  0.000000   Median :  0.0000   Median : 0.000000  \n",
       " Mean   :  0.003192   Mean   : -0.0228   Mean   : 0.008359  \n",
       " 3rd Qu.:  0.153770   3rd Qu.:  0.2638   3rd Qu.: 0.249077  \n",
       " Max.   : 12.040395   Max.   :  9.1470   Max.   : 3.196635  \n",
       "                                                            \n",
       "      WRK                 SEE                 FCX          \n",
       " Min.   :-1.00e+00   Min.   :-6.148730   Min.   :-3.97275  \n",
       " 1st Qu.: 0.00e+00   1st Qu.:-0.153718   1st Qu.:-0.14226  \n",
       " Median : 0.00e+00   Median : 0.000000   Median : 0.00000  \n",
       " Mean   : 7.10e-06   Mean   :-0.000125   Mean   :-0.01816  \n",
       " 3rd Qu.: 0.00e+00   3rd Qu.: 0.153718   3rd Qu.: 0.12990  \n",
       " Max.   : 1.66e+00   Max.   : 2.577866   Max.   : 3.61246  \n",
       "                                                           \n",
       "      MLM                  VMC                 APD                ARG         \n",
       " Min.   :-10.150888   Min.   :-6.701039   Min.   :-9.86346   Min.   :-5.4167  \n",
       " 1st Qu.: -0.429197   1st Qu.:-0.296293   1st Qu.:-0.29504   1st Qu.:-0.2120  \n",
       " Median :  0.000000   Median : 0.000000   Median : 0.01434   Median : 0.0000  \n",
       " Mean   : -0.000163   Mean   : 0.005318   Mean   : 0.01677   Mean   : 0.0213  \n",
       " 3rd Qu.:  0.374835   3rd Qu.: 0.304194   3rd Qu.: 0.33548   3rd Qu.: 0.2562  \n",
       " Max.   : 17.982077   Max.   : 9.908676   Max.   : 6.91676   Max.   : 4.4525  \n",
       "                                                                              \n",
       "       PX                 ECL                IFF                SHW          \n",
       " Min.   :-5.266261   Min.   :-4.36126   Min.   :-4.03500   Min.   :-9.77163  \n",
       " 1st Qu.:-0.226580   1st Qu.:-0.13737   1st Qu.:-0.22457   1st Qu.:-0.26288  \n",
       " Median : 0.009164   Median : 0.00000   Median : 0.00000   Median : 0.00000  \n",
       " Mean   : 0.029114   Mean   : 0.02249   Mean   : 0.01813   Mean   : 0.05099  \n",
       " 3rd Qu.: 0.291818   3rd Qu.: 0.18320   3rd Qu.: 0.25942   3rd Qu.: 0.30208  \n",
       " Max.   : 5.179643   Max.   : 4.19958   Max.   : 5.39611   Max.   : 8.65106  \n",
       "                                                                             \n",
       "      DOW                  DD                 EMN           \n",
       " Min.   :-2.502795   Min.   :-2.833920   Min.   :-3.612752  \n",
       " 1st Qu.:-0.187779   1st Qu.:-0.231412   1st Qu.:-0.165707  \n",
       " Median : 0.000000   Median : 0.000000   Median : 0.000000  \n",
       " Mean   : 0.001715   Mean   : 0.003224   Mean   : 0.005869  \n",
       " 3rd Qu.: 0.194726   3rd Qu.: 0.243675   3rd Qu.: 0.171937  \n",
       " Max.   : 2.719729   Max.   : 2.820912   Max.   : 3.349324  \n",
       "                                                            \n",
       "      FMC                 LYB                 PPG                 SIAL         \n",
       " Min.   :-3.805206   Min.   :-8.780974   Min.   :-3.318781   Min.   :-4.12894  \n",
       " 1st Qu.:-0.101374   1st Qu.: 0.000000   1st Qu.:-0.179698   1st Qu.:-0.19887  \n",
       " Median : 0.000000   Median : 0.000000   Median : 0.008162   Median : 0.00000  \n",
       " Mean   : 0.005621   Mean   : 0.003197   Mean   : 0.017670   Mean   : 0.01643  \n",
       " 3rd Qu.: 0.113083   3rd Qu.: 0.000000   3rd Qu.: 0.205494   3rd Qu.: 0.22273  \n",
       " Max.   : 4.930595   Max.   : 4.784251   Max.   : 4.408537   Max.   : 4.11034  \n",
       "                                                                               \n",
       "      XLI                 QQQ                SPY                DIA           \n",
       " Min.   :-1.809720   Min.   :-6.86396   Min.   :-7.77577   Min.   :-7.043593  \n",
       " 1st Qu.:-0.096393   1st Qu.:-0.16645   1st Qu.:-0.39455   1st Qu.:-0.265281  \n",
       " Median : 0.000000   Median : 0.00000   Median : 0.02857   Median : 0.000000  \n",
       " Mean   :-0.003921   Mean   :-0.01466   Mean   :-0.00654   Mean   : 0.001214  \n",
       " 3rd Qu.: 0.104129   3rd Qu.: 0.19916   3rd Qu.: 0.44106   3rd Qu.: 0.316507  \n",
       " Max.   : 1.766631   Max.   :10.62484   Max.   : 6.49137   Max.   : 6.153845  \n",
       "                                                                              \n",
       "      GLD                 VXX                USO                 IWM           \n",
       " Min.   :-8.900009   Min.   :-762.636   Min.   :-5.309998   Min.   :-5.112531  \n",
       " 1st Qu.: 0.000000   1st Qu.:   0.000   1st Qu.: 0.000000   1st Qu.:-0.172541  \n",
       " Median : 0.000000   Median :   0.000   Median : 0.000000   Median : 0.000000  \n",
       " Mean   : 0.000476   Mean   :  -1.439   Mean   : 0.000124   Mean   :-0.004482  \n",
       " 3rd Qu.: 0.000000   3rd Qu.:   0.000   3rd Qu.: 0.000000   3rd Qu.: 0.237422  \n",
       " Max.   : 8.349998   Max.   : 536.148   Max.   : 3.909997   Max.   : 4.326683  \n",
       "                                                                               \n",
       "      XLE                 XLY                  XLU           \n",
       " Min.   :-7.035172   Min.   :-2.4371289   Min.   :-1.754993  \n",
       " 1st Qu.:-0.170199   1st Qu.:-0.1089714   1st Qu.:-0.082211  \n",
       " Median : 0.000000   Median : 0.0000000   Median : 0.000000  \n",
       " Mean   :-0.004291   Mean   : 0.0002708   Mean   :-0.006006  \n",
       " 3rd Qu.: 0.191806   3rd Qu.: 0.1292983   3rd Qu.: 0.073073  \n",
       " Max.   : 4.581655   Max.   : 1.8900784   Max.   : 1.823665  \n",
       "                                                             \n",
       "      XLB                 XTL                 XLV           \n",
       " Min.   :-2.200031   Min.   :-3.310336   Min.   :-2.180240  \n",
       " 1st Qu.:-0.105777   1st Qu.: 0.000000   1st Qu.:-0.087461  \n",
       " Median : 0.000000   Median : 0.000000   Median : 0.000000  \n",
       " Mean   :-0.002979   Mean   :-0.002789   Mean   :-0.002524  \n",
       " 3rd Qu.: 0.108140   3rd Qu.: 0.000000   3rd Qu.: 0.092415  \n",
       " Max.   : 2.030145   Max.   : 2.595379   Max.   : 1.465377  \n",
       "                                                            \n",
       "      XLP                  XLF                XLK          \n",
       " Min.   :-1.4834722   Min.   :-2.11382   Min.   :-2.99905  \n",
       " 1st Qu.:-0.0597288   1st Qu.:-0.07740   1st Qu.:-0.09285  \n",
       " Median : 0.0000000   Median : 0.00000   Median : 0.00000  \n",
       " Mean   : 0.0000202   Mean   :-0.00394   Mean   :-0.01196  \n",
       " 3rd Qu.: 0.0659851   3rd Qu.: 0.07425   3rd Qu.: 0.09033  \n",
       " Max.   : 1.3777425   Max.   : 4.49061   Max.   : 3.94612  \n",
       "                                                           \n",
       "       T                   CTL                 FTR           \n",
       " Min.   :-1.5655076   Min.   :-5.224395   Min.   :-0.526316  \n",
       " 1st Qu.:-0.1344522   1st Qu.:-0.140076   1st Qu.:-0.037810  \n",
       " Median : 0.0000000   Median : 0.000000   Median : 0.000000  \n",
       " Mean   :-0.0006622   Mean   :-0.003963   Mean   :-0.001103  \n",
       " 3rd Qu.: 0.1270774   3rd Qu.: 0.143435   3rd Qu.: 0.037216  \n",
       " Max.   : 1.9266413   Max.   : 2.020972   Max.   : 0.551865  \n",
       "                                                             \n",
       "       VZ                 LVLT                CLX                 CL           \n",
       " Min.   :-1.810639   Min.   :-213.7500   Min.   :-3.25847   Min.   :-2.007158  \n",
       " 1st Qu.:-0.162093   1st Qu.:  -0.6000   1st Qu.:-0.20268   1st Qu.:-0.123674  \n",
       " Median : 0.000000   Median :   0.0000   Median : 0.00000   Median : 0.003987  \n",
       " Mean   : 0.001338   Mean   :  -0.6795   Mean   : 0.01167   Mean   : 0.014854  \n",
       " 3rd Qu.: 0.156591   3rd Qu.:   0.3300   3rd Qu.: 0.22727   3rd Qu.: 0.146985  \n",
       " Max.   : 2.245001   Max.   : 186.5625   Max.   : 4.38507   Max.   : 2.890960  \n",
       "                                                                               \n",
       "      KMB                BF.B                STZ                CPB          \n",
       " Min.   :-4.10205   Min.   :-4.256914   Min.   :-6.78183   Min.   :-2.88861  \n",
       " 1st Qu.:-0.22953   1st Qu.:-0.125619   1st Qu.:-0.10908   1st Qu.:-0.14283  \n",
       " Median : 0.00000   Median : 0.000000   Median : 0.00000   Median : 0.00000  \n",
       " Mean   : 0.01508   Mean   : 0.007388   Mean   : 0.01622   Mean   : 0.01432  \n",
       " 3rd Qu.: 0.26418   3rd Qu.: 0.138878   3rd Qu.: 0.13464   3rd Qu.: 0.17402  \n",
       " Max.   : 2.84499   Max.   : 3.603603   Max.   : 3.42084   Max.   : 2.65548  \n",
       "                                                                             \n",
       "      CAG                 GIS                 HRL                  K           \n",
       " Min.   :-1.536886   Min.   :-2.146051   Min.   :-1.938987   Min.   :-3.28511  \n",
       " 1st Qu.:-0.099756   1st Qu.:-0.089316   1st Qu.:-0.070608   1st Qu.:-0.17337  \n",
       " Median : 0.000000   Median : 0.000000   Median : 0.000000   Median : 0.00000  \n",
       " Mean   : 0.004572   Mean   : 0.009887   Mean   : 0.006355   Mean   : 0.01529  \n",
       " 3rd Qu.: 0.113049   3rd Qu.: 0.107633   3rd Qu.: 0.084323   3rd Qu.: 0.20748  \n",
       " Max.   : 2.004634   Max.   : 1.955028   Max.   : 1.774534   Max.   : 3.40094  \n",
       "                                                                               \n",
       "      GMCR                 MKC                MJN           \n",
       " Min.   :-11.190747   Min.   :-1.84828   Min.   :-5.689797  \n",
       " 1st Qu.: -0.029112   1st Qu.:-0.12072   1st Qu.: 0.000000  \n",
       " Median :  0.000000   Median : 0.00000   Median : 0.000000  \n",
       " Mean   : -0.000742   Mean   : 0.01653   Mean   : 0.005398  \n",
       " 3rd Qu.:  0.028385   3rd Qu.: 0.15523   3rd Qu.: 0.000000  \n",
       " Max.   :  9.461498   Max.   : 1.72129   Max.   : 8.157939  \n",
       "                                                            \n",
       "      MDLZ                SJM               HSY                TSN           \n",
       " Min.   :-1.465983   Min.   :-5.1760   Min.   :-3.87360   Min.   :-2.438378  \n",
       " 1st Qu.:-0.034673   1st Qu.:-0.1654   1st Qu.:-0.17027   1st Qu.:-0.137164  \n",
       " Median : 0.000000   Median : 0.0000   Median : 0.00000   Median : 0.008716  \n",
       " Mean   : 0.005679   Mean   : 0.0131   Mean   : 0.02088   Mean   : 0.008681  \n",
       " 3rd Qu.: 0.051907   3rd Qu.: 0.2008   3rd Qu.: 0.20903   3rd Qu.: 0.156632  \n",
       " Max.   : 1.984395   Max.   : 3.7813   Max.   : 3.02676   Max.   : 2.284747  \n",
       "                                                                             \n",
       "       MO                  PM                 RAI                 CVS          \n",
       " Min.   :-1.871003   Min.   :-3.588172   Min.   :-2.714550   Min.   :-2.96410  \n",
       " 1st Qu.:-0.047752   1st Qu.: 0.000000   1st Qu.:-0.046695   1st Qu.:-0.17174  \n",
       " Median : 0.000000   Median : 0.000000   Median : 0.000000   Median : 0.00000  \n",
       " Mean   : 0.001888   Mean   : 0.008344   Mean   : 0.005831   Mean   : 0.00463  \n",
       " 3rd Qu.: 0.054600   3rd Qu.: 0.000000   3rd Qu.: 0.054383   3rd Qu.: 0.18220  \n",
       " Max.   : 1.177426   Max.   : 2.761269   Max.   : 2.420716   Max.   : 2.61483  \n",
       "                                                                               \n",
       "      WBA                ADM                SYY                COST         \n",
       " Min.   :-2.72865   Min.   :-3.26045   Min.   :-5.14071   Min.   :-4.51638  \n",
       " 1st Qu.:-0.18798   1st Qu.:-0.13656   1st Qu.:-0.10219   1st Qu.:-0.27959  \n",
       " Median : 0.00000   Median : 0.00000   Median : 0.00000   Median : 0.00000  \n",
       " Mean   : 0.02051   Mean   : 0.00117   Mean   : 0.00533   Mean   : 0.02218  \n",
       " 3rd Qu.: 0.20766   3rd Qu.: 0.14033   3rd Qu.: 0.11985   3rd Qu.: 0.30770  \n",
       " Max.   : 3.49043   Max.   : 2.22942   Max.   : 2.16882   Max.   : 7.11642  \n",
       "                                                                            \n",
       "      WMT                  EL                 PG                TAP          \n",
       " Min.   :-3.546267   Min.   :-4.11867   Min.   :-4.26473   Min.   :-4.40350  \n",
       " 1st Qu.:-0.239348   1st Qu.:-0.13963   1st Qu.:-0.17603   1st Qu.:-0.17808  \n",
       " Median : 0.000000   Median : 0.00000   Median : 0.01978   Median : 0.00000  \n",
       " Mean   : 0.002735   Mean   : 0.01071   Mean   : 0.02821   Mean   : 0.00452  \n",
       " 3rd Qu.: 0.237511   3rd Qu.: 0.15321   3rd Qu.: 0.24509   3rd Qu.: 0.19962  \n",
       " Max.   : 3.855865   Max.   : 3.78852   Max.   : 3.94113   Max.   : 3.25146  \n",
       "                                                                             \n",
       "       KO                 CCE                 DPS           \n",
       " Min.   :-2.541631   Min.   :-1.709532   Min.   :-2.451862  \n",
       " 1st Qu.:-0.116706   1st Qu.:-0.101228   1st Qu.: 0.000000  \n",
       " Median : 0.003508   Median : 0.000000   Median : 0.000000  \n",
       " Mean   : 0.007607   Mean   : 0.004868   Mean   : 0.007381  \n",
       " 3rd Qu.: 0.130802   3rd Qu.: 0.112686   3rd Qu.: 0.000000  \n",
       " Max.   : 1.561213   Max.   : 1.919534   Max.   : 2.122649  \n",
       "                                                            \n",
       "      MNST                PEP                 KR                 WFM           \n",
       " Min.   :-7.729999   Min.   :-3.46457   Min.   :-1.786435   Min.   :-2.305309  \n",
       " 1st Qu.:-0.015620   1st Qu.:-0.19325   1st Qu.:-0.067668   1st Qu.:-0.109784  \n",
       " Median : 0.000000   Median : 0.02493   Median : 0.000000   Median : 0.000000  \n",
       " Mean   : 0.009641   Mean   : 0.03273   Mean   : 0.004183   Mean   : 0.009957  \n",
       " 3rd Qu.: 0.020000   3rd Qu.: 0.26781   3rd Qu.: 0.079354   3rd Qu.: 0.127004  \n",
       " Max.   : 6.110000   Max.   : 2.94950   Max.   : 0.861802   Max.   : 2.173324  \n",
       "                                                                               \n",
       "      AMG                  BLK                  BEN           \n",
       " Min.   :-13.199997   Min.   :-17.850872   Min.   :-4.722791  \n",
       " 1st Qu.: -0.433336   1st Qu.: -0.348363   1st Qu.:-0.134289  \n",
       " Median :  0.000000   Median :  0.000000   Median : 0.000000  \n",
       " Mean   :  0.007735   Mean   :  0.007405   Mean   : 0.007007  \n",
       " 3rd Qu.:  0.491667   3rd Qu.:  0.395950   3rd Qu.: 0.165002  \n",
       " Max.   : 13.000000   Max.   : 20.222368   Max.   : 2.746345  \n",
       "                                                              \n",
       "      IVZ                 LM                 NTRS                AXP           \n",
       " Min.   :-3.87141   Min.   :-5.934472   Min.   :-12.11065   Min.   :-4.970625  \n",
       " 1st Qu.:-0.10353   1st Qu.:-0.281588   1st Qu.: -0.25373   1st Qu.:-0.254808  \n",
       " Median : 0.00000   Median : 0.000000   Median :  0.00000   Median : 0.000000  \n",
       " Mean   : 0.01088   Mean   :-0.007556   Mean   :  0.01585   Mean   : 0.004377  \n",
       " 3rd Qu.: 0.12753   3rd Qu.: 0.274818   3rd Qu.:  0.29229   3rd Qu.: 0.289011  \n",
       " Max.   : 2.46592   Max.   : 8.105231   Max.   :  7.83372   Max.   : 3.409639  \n",
       "                                                                               \n",
       "      HRB                 COF                 DFS           \n",
       " Min.   :-2.171388   Min.   :-8.620624   Min.   :-2.141218  \n",
       " 1st Qu.:-0.100122   1st Qu.:-0.378706   1st Qu.: 0.000000  \n",
       " Median : 0.000000   Median : 0.000000   Median : 0.000000  \n",
       " Mean   : 0.007265   Mean   : 0.009071   Mean   : 0.001071  \n",
       " 3rd Qu.: 0.111507   3rd Qu.: 0.395637   3rd Qu.: 0.000000  \n",
       " Max.   : 2.138570   Max.   : 6.399469   Max.   : 2.127234  \n",
       "                                                            \n",
       "      NAVI                HCBK                 PBCT           \n",
       " Min.   :-0.738610   Min.   :-2.0381654   Min.   :-1.4529778  \n",
       " 1st Qu.: 0.000000   1st Qu.:-0.0192768   1st Qu.:-0.0398965  \n",
       " Median : 0.000000   Median : 0.0000000   Median : 0.0000000  \n",
       " Mean   : 0.001517   Mean   : 0.0007334   Mean   :-0.0004009  \n",
       " 3rd Qu.: 0.000000   3rd Qu.: 0.0260049   3rd Qu.: 0.0388258  \n",
       " Max.   : 1.908876   Max.   : 1.3655553   Max.   : 1.3054680  \n",
       "                                                              \n",
       "      SCHW                ETFC                 GS           \n",
       " Min.   :-4.059662   Min.   :-111.5625   Min.   :-21.42212  \n",
       " 1st Qu.:-0.125540   1st Qu.:  -0.6700   1st Qu.: -0.59272  \n",
       " Median : 0.000000   Median :   0.0000   Median :  0.00000  \n",
       " Mean   : 0.005582   Mean   :  -0.2323   Mean   :  0.02173  \n",
       " 3rd Qu.: 0.135551   3rd Qu.:   0.4000   3rd Qu.:  0.69470  \n",
       " Max.   : 5.681852   Max.   : 103.7500   Max.   : 13.78442  \n",
       "                                                            \n",
       "       MS                  O                  SLG                MAC           \n",
       " Min.   :-6.076702   Min.   :-2.660235   Min.   :-8.28444   Min.   :-5.124645  \n",
       " 1st Qu.:-0.275053   1st Qu.:-0.055277   1st Qu.:-0.15763   1st Qu.:-0.125400  \n",
       " Median : 0.000000   Median : 0.000000   Median : 0.00000   Median : 0.000000  \n",
       " Mean   : 0.004428   Mean   : 0.001772   Mean   : 0.01834   Mean   : 0.009981  \n",
       " 3rd Qu.: 0.284976   3rd Qu.: 0.068070   3rd Qu.: 0.24047   3rd Qu.: 0.170597  \n",
       " Max.   : 7.608185   Max.   : 3.274839   Max.   : 8.77465   Max.   : 5.881257  \n",
       "                                                                               \n",
       "      AMT                CBG                 AMP                CME           \n",
       " Min.   :-4.60164   Min.   :-3.139999   Min.   :-4.96870   Min.   :-15.07846  \n",
       " 1st Qu.:-0.21710   1st Qu.: 0.000000   1st Qu.: 0.00000   1st Qu.: -0.05822  \n",
       " Median : 0.00000   Median : 0.000000   Median : 0.00000   Median :  0.00000  \n",
       " Mean   : 0.00047   Mean   : 0.000371   Mean   : 0.01379   Mean   :  0.00101  \n",
       " 3rd Qu.: 0.19906   3rd Qu.: 0.006660   3rd Qu.: 0.00000   3rd Qu.:  0.08245  \n",
       " Max.   : 5.20177   Max.   : 3.300001   Max.   : 4.18677   Max.   :  7.81592  \n",
       "                                                                              \n",
       "      EFX                 ICE                  MHFI          \n",
       " Min.   :-3.576731   Min.   :-18.375357   Min.   :-7.431580  \n",
       " 1st Qu.:-0.165810   1st Qu.:  0.000000   1st Qu.:-0.170014  \n",
       " Median : 0.009295   Median :  0.000000   Median : 0.007788  \n",
       " Mean   : 0.023473   Mean   :  0.008362   Mean   : 0.018891  \n",
       " 3rd Qu.: 0.212545   3rd Qu.:  0.000000   3rd Qu.: 0.217226  \n",
       " Max.   : 5.377587   Max.   : 17.103371   Max.   : 4.253346  \n",
       "                                                             \n",
       "      MCO                NDAQ                PFG                 PLD           \n",
       " Min.   :-6.72898   Min.   :-4.323838   Min.   :-6.253754   Min.   :-4.413545  \n",
       " 1st Qu.:-0.14868   1st Qu.:-0.028572   1st Qu.:-0.068350   1st Qu.:-0.093732  \n",
       " Median : 0.00000   Median : 0.000000   Median : 0.000000   Median : 0.000000  \n",
       " Mean   : 0.01909   Mean   : 0.002578   Mean   : 0.003836   Mean   : 0.001155  \n",
       " 3rd Qu.: 0.20377   3rd Qu.: 0.047619   3rd Qu.: 0.098592   3rd Qu.: 0.121472  \n",
       " Max.   : 3.90925   Max.   : 4.704793   Max.   : 4.486315   Max.   : 4.776727  \n",
       "                                                                               \n",
       "      PRU                  RF                 STT           \n",
       " Min.   :-9.076532   Min.   :-4.117191   Min.   :-12.25808  \n",
       " 1st Qu.:-0.102141   1st Qu.:-0.105100   1st Qu.: -0.27649  \n",
       " Median : 0.000000   Median : 0.000000   Median :  0.00891  \n",
       " Mean   : 0.007208   Mean   :-0.001297   Mean   :  0.01406  \n",
       " 3rd Qu.: 0.164561   3rd Qu.: 0.104352   3rd Qu.:  0.30915  \n",
       " Max.   : 7.489783   Max.   : 3.069836   Max.   :  8.16900  \n",
       "                                                            \n",
       "      TROW                UNM                 VTR           \n",
       " Min.   :-9.133669   Min.   :-5.586749   Min.   :-3.697017  \n",
       " 1st Qu.:-0.204877   1st Qu.:-0.170899   1st Qu.:-0.072477  \n",
       " Median : 0.000000   Median : 0.000000   Median : 0.000000  \n",
       " Mean   : 0.002145   Mean   : 0.005031   Mean   : 0.006271  \n",
       " 3rd Qu.: 0.215559   3rd Qu.: 0.188278   3rd Qu.: 0.105400  \n",
       " Max.   : 5.006128   Max.   : 2.598968   Max.   : 4.402944  \n",
       "                                                            \n",
       "      AFL                 GNW                 MET           \n",
       " Min.   :-7.815190   Min.   :-3.038247   Min.   :-6.422155  \n",
       " 1st Qu.:-0.176263   1st Qu.: 0.000000   1st Qu.:-0.153346  \n",
       " Median : 0.007752   Median : 0.000000   Median : 0.000000  \n",
       " Mean   : 0.008482   Mean   :-0.007346   Mean   :-0.005142  \n",
       " 3rd Qu.: 0.207967   3rd Qu.: 0.000000   3rd Qu.: 0.145751  \n",
       " Max.   : 5.825628   Max.   : 2.312988   Max.   : 8.639024  \n",
       "                                                            \n",
       "      TMK                 ACE                 ALL          \n",
       " Min.   :-1.858664   Min.   :-8.250391   Min.   :-6.37230  \n",
       " 1st Qu.:-0.112809   1st Qu.:-0.261990   1st Qu.:-0.19655  \n",
       " Median : 0.000000   Median : 0.000000   Median : 0.00000  \n",
       " Mean   : 0.008232   Mean   : 0.005952   Mean   : 0.01024  \n",
       " 3rd Qu.: 0.125778   3rd Qu.: 0.276993   3rd Qu.: 0.21982  \n",
       " Max.   : 1.973808   Max.   : 4.969177   Max.   : 4.17870  \n",
       "                                                           \n",
       "      AIG                   CB                CINF          \n",
       " Min.   :-106.18796   Min.   :-6.76000   Min.   :-4.464735  \n",
       " 1st Qu.:  -2.69418   1st Qu.:-0.20821   1st Qu.:-0.152795  \n",
       " Median :  -0.06877   Median : 0.00000   Median : 0.000000  \n",
       " Mean   :  -0.18909   Mean   : 0.01221   Mean   : 0.004154  \n",
       " 3rd Qu.:   2.33831   3rd Qu.: 0.23000   3rd Qu.: 0.158030  \n",
       " Max.   :  80.25697   Max.   : 5.72463   Max.   : 2.737718  \n",
       "                                                            \n",
       "      HIG                  PGR                 TRV           \n",
       " Min.   :-10.980912   Min.   :-2.127127   Min.   :-6.113069  \n",
       " 1st Qu.: -0.267048   1st Qu.:-0.071624   1st Qu.:-0.232925  \n",
       " Median :  0.000000   Median : 0.000000   Median : 0.000000  \n",
       " Mean   : -0.004759   Mean   : 0.004018   Mean   : 0.008581  \n",
       " 3rd Qu.:  0.280203   3rd Qu.: 0.079319   3rd Qu.: 0.244423  \n",
       " Max.   :  5.520505   Max.   : 1.845596   Max.   : 4.856959  \n",
       "                                                             \n",
       "       XL                 AVB                 ESS           \n",
       " Min.   :-5.129343   Min.   :-10.03999   Min.   :-10.03761  \n",
       " 1st Qu.:-0.238370   1st Qu.: -0.19227   1st Qu.: -0.20233  \n",
       " Median : 0.000000   Median :  0.00000   Median :  0.00000  \n",
       " Mean   :-0.005796   Mean   :  0.02155   Mean   :  0.03842  \n",
       " 3rd Qu.: 0.225671   3rd Qu.:  0.25732   3rd Qu.:  0.30250  \n",
       " Max.   : 4.937292   Max.   :  9.55920   Max.   : 14.29885  \n",
       "                                                            \n",
       "      BAC                  BK                 BBT           \n",
       " Min.   :-6.096846   Min.   :-6.892036   Min.   :-6.834063  \n",
       " 1st Qu.:-0.153128   1st Qu.:-0.191773   1st Qu.:-0.137813  \n",
       " Median : 0.000000   Median : 0.000000   Median : 0.000000  \n",
       " Mean   :-0.006797   Mean   : 0.002994   Mean   : 0.007953  \n",
       " 3rd Qu.: 0.149196   3rd Qu.: 0.187448   3rd Qu.: 0.164779  \n",
       " Max.   : 4.272516   Max.   : 4.765162   Max.   : 3.560371  \n",
       "                                                            \n",
       "       C                  CMA                 FITB          \n",
       " Min.   :-29.90292   Min.   :-4.051613   Min.   :-5.562825  \n",
       " 1st Qu.: -1.28696   1st Qu.:-0.261608   1st Qu.:-0.162869  \n",
       " Median : -0.09951   Median : 0.000000   Median : 0.000000  \n",
       " Mean   : -0.18422   Mean   : 0.003809   Mean   : 0.008129  \n",
       " 3rd Qu.:  0.94406   3rd Qu.: 0.270639   3rd Qu.: 0.167879  \n",
       " Max.   : 31.43928   Max.   : 3.568323   Max.   : 2.746178  \n",
       "                                                            \n",
       "      HBAN                JPM                 KEY           \n",
       " Min.   :-1.654890   Min.   :-5.279584   Min.   :-2.877234  \n",
       " 1st Qu.:-0.082313   1st Qu.:-0.237176   1st Qu.:-0.118844  \n",
       " Median : 0.000000   Median : 0.000000   Median : 0.000000  \n",
       " Mean   : 0.001948   Mean   : 0.001692   Mean   :-0.000472  \n",
       " 3rd Qu.: 0.090566   3rd Qu.: 0.233164   3rd Qu.: 0.114420  \n",
       " Max.   : 1.872639   Max.   : 6.593970   Max.   : 3.624799  \n",
       "                                                            \n",
       "      MTB                 PNC                 STI           \n",
       " Min.   :-9.223102   Min.   :-11.37429   Min.   :-7.537903  \n",
       " 1st Qu.:-0.303429   1st Qu.: -0.29516   1st Qu.:-0.291798  \n",
       " Median : 0.000000   Median :  0.00000   Median : 0.000000  \n",
       " Mean   : 0.009857   Mean   :  0.01442   Mean   : 0.001763  \n",
       " 3rd Qu.: 0.333464   3rd Qu.:  0.31890   3rd Qu.: 0.299673  \n",
       " Max.   : 8.801338   Max.   : 14.24898   Max.   : 6.984832  \n",
       "                                                            \n",
       "      USB                 WFC                 ZION          \n",
       " Min.   :-3.477359   Min.   :-4.979669   Min.   :-9.992375  \n",
       " 1st Qu.:-0.123268   1st Qu.:-0.131659   1st Qu.:-0.264216  \n",
       " Median : 0.006864   Median : 0.000000   Median : 0.000000  \n",
       " Mean   : 0.009623   Mean   : 0.002742   Mean   : 0.005866  \n",
       " 3rd Qu.: 0.148914   3rd Qu.: 0.131729   3rd Qu.: 0.278215  \n",
       " Max.   : 2.997379   Max.   : 3.666699   Max.   : 8.078716  \n",
       "                                                            \n",
       "      AIV                 BXP                CCI                 EQR           \n",
       " Min.   :-5.923823   Min.   :-8.76599   Min.   :-4.543721   Min.   :-4.949157  \n",
       " 1st Qu.:-0.090418   1st Qu.:-0.15496   1st Qu.:-0.191315   1st Qu.:-0.114606  \n",
       " Median : 0.000000   Median : 0.00000   Median : 0.000000   Median : 0.000000  \n",
       " Mean   : 0.004332   Mean   : 0.01944   Mean   :-0.000571   Mean   : 0.009023  \n",
       " 3rd Qu.: 0.108450   3rd Qu.: 0.21112   3rd Qu.: 0.181749   3rd Qu.: 0.136391  \n",
       " Max.   : 3.405726   Max.   :10.47026   Max.   : 5.799223   Max.   : 6.891527  \n",
       "                                                                               \n",
       "      GGP                 HCP                 HCN                HST           \n",
       " Min.   :-4.744637   Min.   :-2.634974   Min.   :-3.80556   Min.   :-1.622306  \n",
       " 1st Qu.:-0.049695   1st Qu.:-0.068990   1st Qu.:-0.08936   1st Qu.:-0.097160  \n",
       " Median : 0.000000   Median : 0.000000   Median : 0.00000   Median : 0.000000  \n",
       " Mean   : 0.002002   Mean   : 0.008341   Mean   : 0.01003   Mean   : 0.005155  \n",
       " 3rd Qu.: 0.067565   3rd Qu.: 0.092324   3rd Qu.: 0.12092   3rd Qu.: 0.112105  \n",
       " Max.   : 3.348525   Max.   : 3.657904   Max.   : 3.74459   Max.   : 2.718781  \n",
       "                                                                               \n",
       "      KIM                 PCL                 PSA                SPG          \n",
       " Min.   :-3.389490   Min.   :-3.662614   Min.   :-8.73515   Min.   :-9.48779  \n",
       " 1st Qu.:-0.054543   1st Qu.:-0.133230   1st Qu.:-0.16880   1st Qu.:-0.16814  \n",
       " Median : 0.000000   Median : 0.000000   Median : 0.01893   Median : 0.00000  \n",
       " Mean   : 0.002747   Mean   : 0.003819   Mean   : 0.04199   Mean   : 0.01654  \n",
       " 3rd Qu.: 0.071575   3rd Qu.: 0.138748   3rd Qu.: 0.25757   3rd Qu.: 0.23235  \n",
       " Max.   : 3.782788   Max.   : 5.902996   Max.   :13.53749   Max.   :11.03992  \n",
       "                                                                              \n",
       "      VNO                 WY                 BRK.B                LUK          \n",
       " Min.   :-7.50655   Min.   :-2.4931567   Min.   :-5.240002   Min.   :-4.62512  \n",
       " 1st Qu.:-0.17819   1st Qu.:-0.1391888   1st Qu.:-0.280003   1st Qu.:-0.09127  \n",
       " Median : 0.00000   Median : 0.0000000   Median : 0.000000   Median : 0.00000  \n",
       " Mean   : 0.00901   Mean   :-0.0005727   Mean   :-0.006274   Mean   :-0.00302  \n",
       " 3rd Qu.: 0.21218   3rd Qu.: 0.1431851   3rd Qu.: 0.240002   3rd Qu.: 0.09890  \n",
       " Max.   : 9.66418   Max.   : 1.1934343   Max.   :15.599998   Max.   : 3.26154  \n",
       "                                                                               \n",
       "       L                  AON                 MMC                AIZ           \n",
       " Min.   :-5.883275   Min.   :-6.902338   Min.   :-8.30713   Min.   :-5.584009  \n",
       " 1st Qu.:-0.129003   1st Qu.:-0.183855   1st Qu.:-0.14452   1st Qu.: 0.000000  \n",
       " Median : 0.000000   Median : 0.008618   Median : 0.00880   Median : 0.000000  \n",
       " Mean   : 0.001564   Mean   : 0.027502   Mean   : 0.01969   Mean   : 0.008226  \n",
       " 3rd Qu.: 0.139542   3rd Qu.: 0.245648   3rd Qu.: 0.18093   3rd Qu.: 0.033974  \n",
       " Max.   : 3.357296   Max.   : 3.708439   Max.   : 3.28905   Max.   : 5.251943  \n",
       "                                                                               \n",
       "      LNC                 DVA                 HCA                  LH          \n",
       " Min.   :-8.717685   Min.   :-3.015001   Min.   :-3.710007   Min.   :-6.73438  \n",
       " 1st Qu.:-0.259008   1st Qu.:-0.106660   1st Qu.: 0.000000   1st Qu.:-0.31250  \n",
       " Median : 0.000000   Median : 0.000000   Median : 0.000000   Median : 0.00000  \n",
       " Mean   :-0.001733   Mean   : 0.009204   Mean   : 0.005229   Mean   : 0.02176  \n",
       " 3rd Qu.: 0.259974   3rd Qu.: 0.125000   3rd Qu.: 0.000000   3rd Qu.: 0.36000  \n",
       " Max.   : 7.738025   Max.   : 4.424999   Max.   : 6.700004   Max.   : 5.90000  \n",
       "                                                                               \n",
       "      DGX                THC                 UHS                XRAY          \n",
       " Min.   :-5.08512   Min.   :-41.00000   Min.   :-7.22788   Min.   :-3.487187  \n",
       " 1st Qu.:-0.14811   1st Qu.: -0.48000   1st Qu.:-0.16830   1st Qu.:-0.128184  \n",
       " Median : 0.00000   Median :  0.00000   Median : 0.00000   Median : 0.004683  \n",
       " Mean   : 0.01951   Mean   : -0.00456   Mean   : 0.01039   Mean   : 0.014235  \n",
       " 3rd Qu.: 0.19791   3rd Qu.:  0.51000   3rd Qu.: 0.17695   3rd Qu.: 0.151229  \n",
       " Max.   : 5.99810   Max.   : 13.32688   Max.   :10.14999   Max.   : 2.667846  \n",
       "                                                                              \n",
       "      PDCO               AET                CI                HUM           \n",
       " Min.   :-2.53848   Min.   :-5.4773   Min.   :-4.94287   Min.   :-17.03493  \n",
       " 1st Qu.:-0.13422   1st Qu.:-0.1498   1st Qu.:-0.20319   1st Qu.: -0.32440  \n",
       " Median : 0.00000   Median : 0.0000   Median : 0.01108   Median :  0.00000  \n",
       " Mean   : 0.01168   Mean   : 0.0139   Mean   : 0.02495   Mean   :  0.02488  \n",
       " 3rd Qu.: 0.16368   3rd Qu.: 0.1727   3rd Qu.: 0.24826   3rd Qu.:  0.35780  \n",
       " Max.   : 3.63734   Max.   : 5.6875   Max.   :17.32999   Max.   : 35.97706  \n",
       "                                                                            \n",
       "      UNH                 ANTM               ABC                 ABBV          \n",
       " Min.   :-3.928915   Min.   :-5.85001   Min.   :-3.082156   Min.   :-2.833681  \n",
       " 1st Qu.:-0.164940   1st Qu.:-0.13887   1st Qu.:-0.102055   1st Qu.: 0.000000  \n",
       " Median : 0.007169   Median : 0.00000   Median : 0.000000   Median : 0.000000  \n",
       " Mean   : 0.008514   Mean   : 0.02896   Mean   : 0.007194   Mean   : 0.004587  \n",
       " 3rd Qu.: 0.195414   3rd Qu.: 0.20368   3rd Qu.: 0.122463   3rd Qu.: 0.000000  \n",
       " Max.   : 4.906532   Max.   : 5.48533   Max.   : 3.132447   Max.   : 2.306033  \n",
       "                                                                               \n",
       "      AGN                 ENDP                LLY           \n",
       " Min.   :-13.64999   Min.   :-3.950004   Min.   :-18.14682  \n",
       " 1st Qu.: -0.37500   1st Qu.:-0.114998   1st Qu.: -0.23989  \n",
       " Median :  0.00000   Median : 0.000000   Median :  0.00000  \n",
       " Mean   :  0.01078   Mean   : 0.006045   Mean   :  0.01536  \n",
       " 3rd Qu.:  0.37500   3rd Qu.: 0.119999   3rd Qu.:  0.26013  \n",
       " Max.   : 19.74001   Max.   : 4.500000   Max.   :  4.39999  \n",
       "                                                            \n",
       "      MNK                 MRK                MYL                 PRGO         \n",
       " Min.   :-7.140000   Min.   :-3.79100   Min.   :-3.680001   Min.   :-8.63448  \n",
       " 1st Qu.: 0.000000   1st Qu.:-0.20329   1st Qu.:-0.157667   1st Qu.:-0.23118  \n",
       " Median : 0.000000   Median : 0.00000   Median : 0.000000   Median : 0.00000  \n",
       " Mean   : 0.008224   Mean   : 0.01153   Mean   :-0.000829   Mean   : 0.01937  \n",
       " 3rd Qu.: 0.000000   3rd Qu.: 0.22298   3rd Qu.: 0.153427   3rd Qu.: 0.23118  \n",
       " Max.   : 4.509995   Max.   : 2.85826   Max.   : 8.190003   Max.   :30.28065  \n",
       "                                                                              \n",
       "      PFE                 ZTS                 ABT           \n",
       " Min.   :-2.393836   Min.   :-5.310001   Min.   :-2.011076  \n",
       " 1st Qu.:-0.124708   1st Qu.: 0.000000   1st Qu.:-0.100023  \n",
       " Median : 0.000000   Median : 0.000000   Median : 0.008346  \n",
       " Mean   :-0.001583   Mean   :-0.000971   Mean   : 0.009180  \n",
       " 3rd Qu.: 0.122481   3rd Qu.: 0.000000   3rd Qu.: 0.116461  \n",
       " Max.   : 1.418843   Max.   : 5.540001   Max.   : 1.493186  \n",
       "                                                            \n",
       "       A                  BCR               BAX                 BDX          \n",
       " Min.   :-12.93930   Min.   :-6.2929   Min.   :-2.748693   Min.   :-6.43668  \n",
       " 1st Qu.: -0.10365   1st Qu.:-0.2489   1st Qu.:-0.111061   1st Qu.:-0.24764  \n",
       " Median :  0.00000   Median : 0.0000   Median : 0.000000   Median : 0.01630  \n",
       " Mean   :  0.00998   Mean   : 0.0347   Mean   : 0.004227   Mean   : 0.01459  \n",
       " 3rd Qu.:  0.14974   3rd Qu.: 0.2937   3rd Qu.: 0.127177   3rd Qu.: 0.29062  \n",
       " Max.   : 29.94757   Max.   : 5.7328   Max.   : 1.522665   Max.   : 4.78734  \n",
       "                                                                             \n",
       "      BSX                  EW                HSP                ISRG          \n",
       " Min.   :-2.590000   Min.   :-8.25000   Min.   :-2.67000   Min.   :-63.54999  \n",
       " 1st Qu.:-0.130000   1st Qu.:-0.08000   1st Qu.: 0.00000   1st Qu.: -0.45501  \n",
       " Median : 0.000000   Median : 0.00000   Median : 0.00000   Median :  0.00000  \n",
       " Mean   :-0.002391   Mean   : 0.02022   Mean   : 0.01849   Mean   :  0.06764  \n",
       " 3rd Qu.: 0.125000   3rd Qu.: 0.12500   3rd Qu.: 0.02000   3rd Qu.:  0.44000  \n",
       " Max.   : 3.820000   Max.   :11.64000   Max.   : 3.43000   Max.   : 33.67999  \n",
       "                                                                              \n",
       "      JNJ                 MDT                PKI                 STJ           \n",
       " Min.   :-4.062560   Min.   :-3.35242   Min.   :-3.932891   Min.   :-2.682884  \n",
       " 1st Qu.:-0.208542   1st Qu.:-0.22438   1st Qu.:-0.152861   1st Qu.:-0.183080  \n",
       " Median : 0.000000   Median : 0.00611   Median : 0.000000   Median : 0.000000  \n",
       " Mean   : 0.008467   Mean   : 0.01187   Mean   : 0.003487   Mean   : 0.008053  \n",
       " 3rd Qu.: 0.211750   3rd Qu.: 0.25206   3rd Qu.: 0.164594   3rd Qu.: 0.201388  \n",
       " Max.   : 3.612951   Max.   : 3.03977   Max.   : 4.017306   Max.   : 3.386793  \n",
       "                                                                               \n",
       "      SYK                 TMO                VAR                 ZBH          \n",
       " Min.   :-5.796243   Min.   :-5.63161   Min.   :-4.400002   Min.   :-5.37744  \n",
       " 1st Qu.:-0.193714   1st Qu.:-0.27351   1st Qu.:-0.169998   1st Qu.:-0.11606  \n",
       " Median : 0.000000   Median : 0.00000   Median : 0.007539   Median : 0.00000  \n",
       " Mean   : 0.009257   Mean   : 0.01343   Mean   : 0.014860   Mean   : 0.02029  \n",
       " 3rd Qu.: 0.222101   3rd Qu.: 0.28496   3rd Qu.: 0.218467   3rd Qu.: 0.22245  \n",
       " Max.   : 5.115788   Max.   : 5.19676   Max.   : 5.450005   Max.   : 8.53041  \n",
       "                                                                              \n",
       "      BMY                 CAH                CERN                ESRX          \n",
       " Min.   :-7.387428   Min.   :-4.53949   Min.   :-3.040001   Min.   :-4.199997  \n",
       " 1st Qu.:-0.141034   1st Qu.:-0.18388   1st Qu.:-0.088750   1st Qu.:-0.092500  \n",
       " Median : 0.000000   Median : 0.00000   Median : 0.000000   Median : 0.000000  \n",
       " Mean   : 0.005641   Mean   : 0.01202   Mean   : 0.009042   Mean   : 0.009293  \n",
       " 3rd Qu.: 0.155624   3rd Qu.: 0.22468   3rd Qu.: 0.103126   3rd Qu.: 0.113750  \n",
       " Max.   : 3.875839   Max.   : 2.83401   Max.   : 4.060002   Max.   : 3.309997  \n",
       "                                                                               \n",
       "      MCK                 WAT                 ALXN           \n",
       " Min.   :-11.18106   Min.   :-10.50000   Min.   :-15.060013  \n",
       " 1st Qu.: -0.30126   1st Qu.: -0.29000   1st Qu.: -0.122500  \n",
       " Median :  0.00000   Median :  0.00000   Median :  0.000000  \n",
       " Mean   :  0.01889   Mean   :  0.01831   Mean   :  0.005434  \n",
       " 3rd Qu.:  0.36255   3rd Qu.:  0.32000   3rd Qu.:  0.117500  \n",
       " Max.   :  5.73073   Max.   :  6.88000   Max.   : 15.470001  \n",
       "                                                             \n",
       "      AMGN               BXLT                BIIB                CELG          \n",
       " Min.   :-7.31502   Min.   :-1.710001   Min.   :-36.47000   Min.   :-6.819999  \n",
       " 1st Qu.:-0.35179   1st Qu.: 0.000000   1st Qu.: -0.41000   1st Qu.:-0.092500  \n",
       " Median : 0.00000   Median : 0.000000   Median :  0.00000   Median : 0.000000  \n",
       " Mean   :-0.01218   Mean   :-0.001181   Mean   :  0.01284   Mean   : 0.005226  \n",
       " 3rd Qu.: 0.37030   3rd Qu.: 0.000000   3rd Qu.:  0.48000   3rd Qu.: 0.098750  \n",
       " Max.   : 7.51954   Max.   : 0.550004   Max.   : 18.82001   Max.   : 4.459999  \n",
       "                                                                               \n",
       "      GILD                REGN               VRTX               HSIC         \n",
       " Min.   :-5.300798   Min.   :-20.4900   Min.   :-9.18750   Min.   :-4.69000  \n",
       " 1st Qu.:-0.077838   1st Qu.: -0.3800   1st Qu.:-0.39000   1st Qu.:-0.25000  \n",
       " Median : 0.000000   Median :  0.0000   Median : 0.00000   Median : 0.00000  \n",
       " Mean   :-0.003724   Mean   :  0.0154   Mean   : 0.01113   Mean   : 0.02278  \n",
       " 3rd Qu.: 0.084384   3rd Qu.:  0.3750   3rd Qu.: 0.37500   3rd Qu.: 0.30500  \n",
       " Max.   : 4.892281   Max.   : 30.7100   Max.   :11.93750   Max.   : 7.35000  \n",
       "                                                                             "
      ]
     },
     "metadata": {},
     "output_type": "display_data"
    }
   ],
   "source": [
    "summary(sp500)"
   ]
  },
  {
   "cell_type": "markdown",
   "metadata": {},
   "source": [
    "## Estimates of Location\n",
    "\n",
    "It is an estimate where most of your data is located which is nothing but the central tendency. To calculate the central tendancy we use mean, median, or mode for categorical variables."
   ]
  },
  {
   "cell_type": "markdown",
   "metadata": {},
   "source": [
    "##### Mean of the population"
   ]
  },
  {
   "cell_type": "code",
   "execution_count": 10,
   "metadata": {},
   "outputs": [
    {
     "data": {
      "text/html": [
       "6162876.3"
      ],
      "text/latex": [
       "6162876.3"
      ],
      "text/markdown": [
       "6162876.3"
      ],
      "text/plain": [
       "[1] 6162876"
      ]
     },
     "metadata": {},
     "output_type": "display_data"
    }
   ],
   "source": [
    "mean(state[[\"Population\"]])"
   ]
  },
  {
   "cell_type": "markdown",
   "metadata": {},
   "source": [
    "##### Trimmed mean of the population"
   ]
  },
  {
   "cell_type": "code",
   "execution_count": 11,
   "metadata": {},
   "outputs": [
    {
     "data": {
      "text/html": [
       "4783697.125"
      ],
      "text/latex": [
       "4783697.125"
      ],
      "text/markdown": [
       "4783697.125"
      ],
      "text/plain": [
       "[1] 4783697"
      ]
     },
     "metadata": {},
     "output_type": "display_data"
    }
   ],
   "source": [
    "mean(state[[\"Population\"]], trim=0.1)"
   ]
  },
  {
   "cell_type": "markdown",
   "metadata": {},
   "source": [
    "##### Median of the population\n",
    "The mean is bigger than the trimmed mean and it is also bigger than the median. Because trimmed mean excludes 10% of largest and smallest population and then calculates mean with the remaining population."
   ]
  },
  {
   "cell_type": "code",
   "execution_count": 12,
   "metadata": {},
   "outputs": [
    {
     "data": {
      "text/html": [
       "4436369.5"
      ],
      "text/latex": [
       "4436369.5"
      ],
      "text/markdown": [
       "4436369.5"
      ],
      "text/plain": [
       "[1] 4436370"
      ]
     },
     "metadata": {},
     "output_type": "display_data"
    }
   ],
   "source": [
    "median(state[[\"Population\"]])"
   ]
  },
  {
   "cell_type": "markdown",
   "metadata": {},
   "source": [
    "To compute the average murder reate for the country, then we need to use weighted average or median for different populations in the states."
   ]
  },
  {
   "cell_type": "code",
   "execution_count": 13,
   "metadata": {},
   "outputs": [
    {
     "data": {
      "text/html": [
       "4.44583398112339"
      ],
      "text/latex": [
       "4.44583398112339"
      ],
      "text/markdown": [
       "4.44583398112339"
      ],
      "text/plain": [
       "[1] 4.445834"
      ]
     },
     "metadata": {},
     "output_type": "display_data"
    }
   ],
   "source": [
    "weighted.mean(state[[\"Murder.Rate\"]], w=state[[\"Population\"]])"
   ]
  },
  {
   "cell_type": "code",
   "execution_count": 17,
   "metadata": {},
   "outputs": [
    {
     "name": "stderr",
     "output_type": "stream",
     "text": [
      "Installing package into ‘/home/nbuser/R’\n",
      "(as ‘lib’ is unspecified)\n"
     ]
    }
   ],
   "source": [
    "install.packages(\"matrixStats\")"
   ]
  },
  {
   "cell_type": "code",
   "execution_count": 18,
   "metadata": {},
   "outputs": [
    {
     "data": {
      "text/html": [
       "4.4"
      ],
      "text/latex": [
       "4.4"
      ],
      "text/markdown": [
       "4.4"
      ],
      "text/plain": [
       "[1] 4.4"
      ]
     },
     "metadata": {},
     "output_type": "display_data"
    }
   ],
   "source": [
    "library(matrixStats)\n",
    "weightedMedian(state[[\"Murder.Rate\"]], w=state[[\"Population\"]])"
   ]
  },
  {
   "cell_type": "markdown",
   "metadata": {},
   "source": [
    "Both weighted mean and median are about the same.\n",
    "\n",
    "## Estimates of Variability\n",
    "\n",
    "Variability also known as dispersion, measures whether the data are tightly clustered or spread out. \n",
    "\n",
    "##### Calculating for standard deviation"
   ]
  },
  {
   "cell_type": "code",
   "execution_count": 19,
   "metadata": {},
   "outputs": [
    {
     "data": {
      "text/html": [
       "6848235.34740114"
      ],
      "text/latex": [
       "6848235.34740114"
      ],
      "text/markdown": [
       "6848235.34740114"
      ],
      "text/plain": [
       "[1] 6848235"
      ]
     },
     "metadata": {},
     "output_type": "display_data"
    }
   ],
   "source": [
    "sd(state[[\"Population\"]])"
   ]
  },
  {
   "cell_type": "markdown",
   "metadata": {},
   "source": [
    "##### Inter Quartile Range"
   ]
  },
  {
   "cell_type": "code",
   "execution_count": 20,
   "metadata": {},
   "outputs": [
    {
     "data": {
      "text/html": [
       "4847308"
      ],
      "text/latex": [
       "4847308"
      ],
      "text/markdown": [
       "4847308"
      ],
      "text/plain": [
       "[1] 4847308"
      ]
     },
     "metadata": {},
     "output_type": "display_data"
    }
   ],
   "source": [
    "IQR(state[[\"Population\"]])"
   ]
  },
  {
   "cell_type": "markdown",
   "metadata": {},
   "source": [
    "##### Median Absolute Deviation (MAD)"
   ]
  },
  {
   "cell_type": "code",
   "execution_count": 21,
   "metadata": {},
   "outputs": [
    {
     "data": {
      "text/html": [
       "3849870.3852"
      ],
      "text/latex": [
       "3849870.3852"
      ],
      "text/markdown": [
       "3849870.3852"
      ],
      "text/plain": [
       "[1] 3849870"
      ]
     },
     "metadata": {},
     "output_type": "display_data"
    }
   ],
   "source": [
    "mad(state[[\"Population\"]])"
   ]
  },
  {
   "cell_type": "markdown",
   "metadata": {},
   "source": [
    "The standard deviation is almost twice as large as the MAD (in R, by default, the scale of the MAD is adjusted to be on the same scale as the mean). This is not surprising since the standard deviation is sensitive to outliers.\n",
    "\n",
    "## Exploring the Data Distribution\n",
    "\n",
    "**Percentiles and Boxplots**\n",
    "\n",
    "percentiles can be used to measure the spread of the data. Percentiles are also valuable to summarize the entire distribution. It is common to report the quartiles (25th, 50th, and 75th percentiles) and the deciles (the 10th, 20th, ., 90th percentiles). Percentiles are especially valuable to summarize the tails (the outer range) of the distribution."
   ]
  },
  {
   "cell_type": "code",
   "execution_count": 22,
   "metadata": {},
   "outputs": [
    {
     "data": {
      "text/html": [
       "<dl class=dl-horizontal>\n",
       "\t<dt>5%</dt>\n",
       "\t\t<dd>1.6</dd>\n",
       "\t<dt>25%</dt>\n",
       "\t\t<dd>2.425</dd>\n",
       "\t<dt>50%</dt>\n",
       "\t\t<dd>4</dd>\n",
       "\t<dt>75%</dt>\n",
       "\t\t<dd>5.55</dd>\n",
       "\t<dt>95%</dt>\n",
       "\t\t<dd>6.51</dd>\n",
       "</dl>\n"
      ],
      "text/latex": [
       "\\begin{description*}\n",
       "\\item[5\\textbackslash{}\\%] 1.6\n",
       "\\item[25\\textbackslash{}\\%] 2.425\n",
       "\\item[50\\textbackslash{}\\%] 4\n",
       "\\item[75\\textbackslash{}\\%] 5.55\n",
       "\\item[95\\textbackslash{}\\%] 6.51\n",
       "\\end{description*}\n"
      ],
      "text/markdown": [
       "5%\n",
       ":   1.625%\n",
       ":   2.42550%\n",
       ":   475%\n",
       ":   5.5595%\n",
       ":   6.51\n",
       "\n"
      ],
      "text/plain": [
       "   5%   25%   50%   75%   95% \n",
       "1.600 2.425 4.000 5.550 6.510 "
      ]
     },
     "metadata": {},
     "output_type": "display_data"
    }
   ],
   "source": [
    "quantile(state[['Murder.Rate']], p=c(.05, .25, .5, .75, .95))"
   ]
  },
  {
   "cell_type": "markdown",
   "metadata": {},
   "source": [
    "The median is 4 murders per 100,000 people, although there is quite a bit of variability: the 5th percentile is only 1.6 and the 95th percentile is 6.51."
   ]
  },
  {
   "cell_type": "code",
   "execution_count": 2,
   "metadata": {},
   "outputs": [
    {
     "data": {
      "image/png": "[encoded data removed]",
      "text/plain": [
       "plot without title"
      ]
     },
     "metadata": {},
     "output_type": "display_data"
    }
   ],
   "source": [
    "boxplot(state[['Population']]/1000000, ylab='Population (millions)')"
   ]
  },
  {
   "cell_type": "markdown",
   "metadata": {},
   "source": [
    "The top and the bottom of the box are 75th and 25th percentile. The median shows the horizontal line in the box. The dashed line are referred to as whiskers, which indicates the range of the data."
   ]
  },
  {
   "cell_type": "markdown",
   "metadata": {},
   "source": [
    "** Frequency tables and Histograms **"
   ]
  },
  {
   "cell_type": "code",
   "execution_count": 4,
   "metadata": {},
   "outputs": [
    {
     "data": {
      "text/plain": [
       "pop_freq\n",
       "[5.64e+05,4.23e+06]  (4.23e+06,7.9e+06]  (7.9e+06,1.16e+07] (1.16e+07,1.52e+07] \n",
       "                 24                  14                   6                   2 \n",
       "(1.52e+07,1.89e+07] (1.89e+07,2.26e+07] (2.26e+07,2.62e+07] (2.62e+07,2.99e+07] \n",
       "                  1                   1                   1                   0 \n",
       "(2.99e+07,3.36e+07] (3.36e+07,3.73e+07] \n",
       "                  0                   1 "
      ]
     },
     "metadata": {},
     "output_type": "display_data"
    }
   ],
   "source": [
    "breaks <- seq(from=min(state[['Population']]),\n",
    "              to=max(state[['Population']]), length=11)\n",
    "pop_freq <- cut(state[['Population']], breaks=breaks, right=TRUE, include.lowest=TRUE)\n",
    "table(pop_freq)"
   ]
  },
  {
   "cell_type": "code",
   "execution_count": 5,
   "metadata": {},
   "outputs": [
    {
     "data": {
      "image/png": "[encoded data removed]",
      "text/plain": [
       "Plot with title \"Histogram Population\""
      ]
     },
     "metadata": {},
     "output_type": "display_data"
    }
   ],
   "source": [
    "hist(state[['Population']], breaks=breaks, xlab=\"Population\", main=\"Histogram Population\")"
   ]
  },
  {
   "cell_type": "markdown",
   "metadata": {},
   "source": [
    "**Density Estimates**"
   ]
  },
  {
   "cell_type": "code",
   "execution_count": 6,
   "metadata": {},
   "outputs": [
    {
     "data": {
      "image/png": "[encoded data removed]",
      "text/plain": [
       "Plot with title \"Histogram of Murder Rate\""
      ]
     },
     "metadata": {},
     "output_type": "display_data"
    }
   ],
   "source": [
    "hist(state[[\"Murder.Rate\"]], freq=FALSE, xlab=\"Murder Rate\", main = \"Histogram of Murder Rate\")\n",
    "lines(density(state[[\"Murder.Rate\"]]), lwd=2, col=\"blue\")"
   ]
  },
  {
   "cell_type": "markdown",
   "metadata": {},
   "source": [
    "**Exploring Binary and Categorical Data**\n",
    "\n",
    "Barplot airline delays at DFW by cause"
   ]
  },
  {
   "cell_type": "code",
   "execution_count": 7,
   "metadata": {},
   "outputs": [
    {
     "data": {
      "image/png": "[encoded data removed]",
      "text/plain": [
       "plot without title"
      ]
     },
     "metadata": {},
     "output_type": "display_data"
    }
   ],
   "source": [
    "barplot(as.matrix(dfw)/6, cex.axis=.5)"
   ]
  },
  {
   "cell_type": "markdown",
   "metadata": {},
   "source": [
    "**Mode** <br>\n",
    "The mode in the above bar graph is Inbound. Mode is a value that appears often in the data"
   ]
  },
  {
   "cell_type": "markdown",
   "metadata": {},
   "source": [
    "## Correlation\n",
    "\n",
    "Exploratory data analysis in many modeling projects (whether in data science or in research) involves examining correlation among predictors, and between predictors and a target variable. Variables X and Y (each with measured data) are said to be positively correlated if high values of X go with high values of Y, and low values of X go with low values of Y. If high values of X go with low values of Y, and vice versa, the variables are negatively correlated.\n",
    "\n",
    "**Pearsons Correlation**"
   ]
  },
  {
   "cell_type": "code",
   "execution_count": 30,
   "metadata": {},
   "outputs": [
    {
     "data": {
      "text/html": [
       "<table>\n",
       "<thead><tr><th></th><th scope=col>TMO</th><th scope=col>HCBK</th><th scope=col>CB</th><th scope=col>PCAR</th><th scope=col>DLPH</th><th scope=col>AGN</th><th scope=col>DGX</th><th scope=col>GM</th><th scope=col>STJ</th><th scope=col>ESRX</th><th scope=col>CAH</th><th scope=col>PKI</th><th scope=col>AMGN</th><th scope=col>CERN</th><th scope=col>BMY</th><th scope=col>SYK</th><th scope=col>VAR</th></tr></thead>\n",
       "<tbody>\n",
       "\t<tr><th scope=row>3</th><td> 0.00000000 </td><td>0           </td><td> 0.280710   </td><td> 0.03662234 </td><td>0           </td><td>0           </td><td>0           </td><td>0           </td><td> 0.01871063 </td><td> 0.000000000</td><td>-0.03007086 </td><td> 0.20891181 </td><td>-0.11572003 </td><td>-0.01562000 </td><td>-0.11563884 </td><td>-0.02763172 </td><td> 0.04492286 </td></tr>\n",
       "\t<tr><th scope=row>4</th><td> 0.12418687 </td><td>0           </td><td> 0.130998   </td><td> 0.07934032 </td><td>0           </td><td>0           </td><td>0           </td><td>0           </td><td> 0.18714040 </td><td> 0.023440000</td><td> 0.00000000 </td><td> 0.12534709 </td><td>-0.08679003 </td><td>-0.01172006 </td><td> 0.14133329 </td><td> 0.00000000 </td><td> 0.10480457 </td></tr>\n",
       "\t<tr><th scope=row>5</th><td> 0.34151042 </td><td>0           </td><td>-0.056142   </td><td> 0.10985728 </td><td>0           </td><td>0           </td><td>0           </td><td>0           </td><td>-0.18762898 </td><td>-0.015620000</td><td> 0.06014184 </td><td> 0.16712947 </td><td> 0.14465004 </td><td>-0.00782000 </td><td>-0.11563461 </td><td>-0.08289515 </td><td>-0.02994553 </td></tr>\n",
       "\t<tr><th scope=row>6</th><td> 0.18627509 </td><td>0           </td><td>-0.280710   </td><td> 0.01220590 </td><td>0           </td><td>0           </td><td>0           </td><td>0           </td><td>-0.15010830 </td><td>-0.005860032</td><td>-0.06014184 </td><td>-0.04178237 </td><td>-0.33269069 </td><td>-0.04688000 </td><td> 0.05139357 </td><td> 0.00000000 </td><td>-0.02994554 </td></tr>\n",
       "\t<tr><th scope=row>7</th><td> 0.09313767 </td><td>0           </td><td> 0.018714   </td><td>-0.03661741 </td><td>0           </td><td>0           </td><td>0           </td><td>0           </td><td>-0.07504988 </td><td> 0.011720000</td><td> 0.01503567 </td><td> 0.00000000 </td><td>-0.54967019 </td><td>-0.09375000 </td><td>-0.02569498 </td><td>-0.13815858 </td><td> 0.01497732 </td></tr>\n",
       "\t<tr><th scope=row>8</th><td>-0.12418613 </td><td>0           </td><td>-0.056142   </td><td>-0.03661746 </td><td>0           </td><td>0           </td><td>0           </td><td>0           </td><td> 0.22515820 </td><td> 0.000000000</td><td> 0.03007086 </td><td>-0.16712946 </td><td> 0.15911944 </td><td>-0.00781000 </td><td> 0.00000000 </td><td>-0.05526342 </td><td> 0.01497732 </td></tr>\n",
       "</tbody>\n",
       "</table>\n"
      ],
      "text/latex": [
       "\\begin{tabular}{r|lllllllllllllllll}\n",
       "  & TMO & HCBK & CB & PCAR & DLPH & AGN & DGX & GM & STJ & ESRX & CAH & PKI & AMGN & CERN & BMY & SYK & VAR\\\\\n",
       "\\hline\n",
       "\t3 &  0.00000000  & 0            &  0.280710    &  0.03662234  & 0            & 0            & 0            & 0            &  0.01871063  &  0.000000000 & -0.03007086  &  0.20891181  & -0.11572003  & -0.01562000  & -0.11563884  & -0.02763172  &  0.04492286 \\\\\n",
       "\t4 &  0.12418687  & 0            &  0.130998    &  0.07934032  & 0            & 0            & 0            & 0            &  0.18714040  &  0.023440000 &  0.00000000  &  0.12534709  & -0.08679003  & -0.01172006  &  0.14133329  &  0.00000000  &  0.10480457 \\\\\n",
       "\t5 &  0.34151042  & 0            & -0.056142    &  0.10985728  & 0            & 0            & 0            & 0            & -0.18762898  & -0.015620000 &  0.06014184  &  0.16712947  &  0.14465004  & -0.00782000  & -0.11563461  & -0.08289515  & -0.02994553 \\\\\n",
       "\t6 &  0.18627509  & 0            & -0.280710    &  0.01220590  & 0            & 0            & 0            & 0            & -0.15010830  & -0.005860032 & -0.06014184  & -0.04178237  & -0.33269069  & -0.04688000  &  0.05139357  &  0.00000000  & -0.02994554 \\\\\n",
       "\t7 &  0.09313767  & 0            &  0.018714    & -0.03661741  & 0            & 0            & 0            & 0            & -0.07504988  &  0.011720000 &  0.01503567  &  0.00000000  & -0.54967019  & -0.09375000  & -0.02569498  & -0.13815858  &  0.01497732 \\\\\n",
       "\t8 & -0.12418613  & 0            & -0.056142    & -0.03661746  & 0            & 0            & 0            & 0            &  0.22515820  &  0.000000000 &  0.03007086  & -0.16712946  &  0.15911944  & -0.00781000  &  0.00000000  & -0.05526342  &  0.01497732 \\\\\n",
       "\\end{tabular}\n"
      ],
      "text/markdown": [
       "\n",
       "| <!--/--> | TMO | HCBK | CB | PCAR | DLPH | AGN | DGX | GM | STJ | ESRX | CAH | PKI | AMGN | CERN | BMY | SYK | VAR | \n",
       "|---|---|---|---|---|---|\n",
       "| 3 |  0.00000000  | 0            |  0.280710    |  0.03662234  | 0            | 0            | 0            | 0            |  0.01871063  |  0.000000000 | -0.03007086  |  0.20891181  | -0.11572003  | -0.01562000  | -0.11563884  | -0.02763172  |  0.04492286  | \n",
       "| 4 |  0.12418687  | 0            |  0.130998    |  0.07934032  | 0            | 0            | 0            | 0            |  0.18714040  |  0.023440000 |  0.00000000  |  0.12534709  | -0.08679003  | -0.01172006  |  0.14133329  |  0.00000000  |  0.10480457  | \n",
       "| 5 |  0.34151042  | 0            | -0.056142    |  0.10985728  | 0            | 0            | 0            | 0            | -0.18762898  | -0.015620000 |  0.06014184  |  0.16712947  |  0.14465004  | -0.00782000  | -0.11563461  | -0.08289515  | -0.02994553  | \n",
       "| 6 |  0.18627509  | 0            | -0.280710    |  0.01220590  | 0            | 0            | 0            | 0            | -0.15010830  | -0.005860032 | -0.06014184  | -0.04178237  | -0.33269069  | -0.04688000  |  0.05139357  |  0.00000000  | -0.02994554  | \n",
       "| 7 |  0.09313767  | 0            |  0.018714    | -0.03661741  | 0            | 0            | 0            | 0            | -0.07504988  |  0.011720000 |  0.01503567  |  0.00000000  | -0.54967019  | -0.09375000  | -0.02569498  | -0.13815858  |  0.01497732  | \n",
       "| 8 | -0.12418613  | 0            | -0.056142    | -0.03661746  | 0            | 0            | 0            | 0            |  0.22515820  |  0.000000000 |  0.03007086  | -0.16712946  |  0.15911944  | -0.00781000  |  0.00000000  | -0.05526342  |  0.01497732  | \n",
       "\n",
       "\n"
      ],
      "text/plain": [
       "  TMO         HCBK CB        PCAR        DLPH AGN DGX GM STJ        \n",
       "3  0.00000000 0     0.280710  0.03662234 0    0   0   0   0.01871063\n",
       "4  0.12418687 0     0.130998  0.07934032 0    0   0   0   0.18714040\n",
       "5  0.34151042 0    -0.056142  0.10985728 0    0   0   0  -0.18762898\n",
       "6  0.18627509 0    -0.280710  0.01220590 0    0   0   0  -0.15010830\n",
       "7  0.09313767 0     0.018714 -0.03661741 0    0   0   0  -0.07504988\n",
       "8 -0.12418613 0    -0.056142 -0.03661746 0    0   0   0   0.22515820\n",
       "  ESRX         CAH         PKI         AMGN        CERN        BMY        \n",
       "3  0.000000000 -0.03007086  0.20891181 -0.11572003 -0.01562000 -0.11563884\n",
       "4  0.023440000  0.00000000  0.12534709 -0.08679003 -0.01172006  0.14133329\n",
       "5 -0.015620000  0.06014184  0.16712947  0.14465004 -0.00782000 -0.11563461\n",
       "6 -0.005860032 -0.06014184 -0.04178237 -0.33269069 -0.04688000  0.05139357\n",
       "7  0.011720000  0.01503567  0.00000000 -0.54967019 -0.09375000 -0.02569498\n",
       "8  0.000000000  0.03007086 -0.16712946  0.15911944 -0.00781000  0.00000000\n",
       "  SYK         VAR        \n",
       "3 -0.02763172  0.04492286\n",
       "4  0.00000000  0.10480457\n",
       "5 -0.08289515 -0.02994553\n",
       "6  0.00000000 -0.02994554\n",
       "7 -0.13815858  0.01497732\n",
       "8 -0.05526342  0.01497732"
      ]
     },
     "metadata": {},
     "output_type": "display_data"
    }
   ],
   "source": [
    "head(sp500[row.names(sp500)>\"2012-07-01\",\n",
    "              sp500_sym[sp500_sym$sector==\"etf\", \"symbol\"]])"
   ]
  },
  {
   "cell_type": "code",
   "execution_count": 31,
   "metadata": {},
   "outputs": [
    {
     "data": {
      "image/png": "[encoded data removed]",
      "text/plain": [
       "Plot with title \"\""
      ]
     },
     "metadata": {},
     "output_type": "display_data"
    }
   ],
   "source": [
    "etfs <- sp500[row.names(sp500)>\"2012-07-01\",\n",
    "              sp500_sym[sp500_sym$sector==\"etf\", \"symbol\"]]\n",
    "library(corrplot)\n",
    "corrplot(cor(etfs), method=\"ellipse\")"
   ]
  },
  {
   "cell_type": "code",
   "execution_count": 17,
   "metadata": {},
   "outputs": [
    {
     "name": "stdout",
     "output_type": "stream",
     "text": [
      "package 'corrplot' successfully unpacked and MD5 sums checked\n",
      "\n",
      "The downloaded binary packages are in\n",
      "\tC:\\Users\\vino2\\AppData\\Local\\Temp\\Rtmp25aijD\\downloaded_packages\n"
     ]
    }
   ],
   "source": [
    "install.packages(\"corrplot\", \"C:/Users/vino2/Anaconda3/Lib/R/library\", repos='http://cran.us.r-project.org')"
   ]
  },
  {
   "cell_type": "markdown",
   "metadata": {},
   "source": [
    "**Scatterplot**\n",
    "\n",
    "The standard way to visualize the relationship between two measured data variables is with a scatterplot. The x-axis represents one variable, the y-axis another, and each point on the graph is a record."
   ]
  },
  {
   "cell_type": "code",
   "execution_count": null,
   "metadata": {},
   "outputs": [],
   "source": [
    "plot(telecom$)"
   ]
  },
  {
   "cell_type": "code",
   "execution_count": null,
   "metadata": {},
   "outputs": [],
   "source": []
  },
  {
   "cell_type": "code",
   "execution_count": null,
   "metadata": {},
   "outputs": [],
   "source": []
  },
  {
   "cell_type": "code",
   "execution_count": null,
   "metadata": {},
   "outputs": [],
   "source": []
  },
  {
   "cell_type": "code",
   "execution_count": null,
   "metadata": {},
   "outputs": [],
   "source": []
  },
  {
   "cell_type": "code",
   "execution_count": null,
   "metadata": {},
   "outputs": [],
   "source": []
  },
  {
   "cell_type": "code",
   "execution_count": null,
   "metadata": {},
   "outputs": [],
   "source": []
  }
 ],
 "metadata": {
  "kernelspec": {
   "display_name": "R",
   "language": "R",
   "name": "ir"
  },
  "language_info": {
   "codemirror_mode": "r",
   "file_extension": ".r",
   "mimetype": "text/x-r-source",
   "name": "R",
   "pygments_lexer": "r",
   "version": "3.5.1"
  }
 },
 "nbformat": 4,
 "nbformat_minor": 2
}
